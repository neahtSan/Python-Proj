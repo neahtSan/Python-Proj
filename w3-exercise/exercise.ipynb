{
 "cells": [
  {
   "cell_type": "code",
   "execution_count": 3,
   "metadata": {},
   "outputs": [
    {
     "data": {
      "text/plain": [
       "'\\nPython basic (Part -I) [150 exercises with solution]\\nsrc: https://www.w3resource.com/python-exercises/python-basic-exercises.php\\n'"
      ]
     },
     "execution_count": 3,
     "metadata": {},
     "output_type": "execute_result"
    }
   ],
   "source": [
    "'''\n",
    "Python basic (Part -I) [150 exercises with solution]\n",
    "src: https://www.w3resource.com/python-exercises/python-basic-exercises.php\n",
    "'''"
   ]
  },
  {
   "cell_type": "code",
   "execution_count": 4,
   "metadata": {},
   "outputs": [
    {
     "name": "stdout",
     "output_type": "stream",
     "text": [
      "Twinkle, twinkle, little star, \n",
      "\tHow I wonder what you are!\n",
      "\t\tUp above the world so high,\n",
      "\t\tLike a diamond in the sky.\n",
      "Twinkle, twinkle, little star, \n",
      "\tHow I wonder what you are\n"
     ]
    }
   ],
   "source": [
    "#1 \n",
    "sample = \"Twinkle, twinkle, little star, How I wonder what you are! Up above the world so high, Like a diamond in the sky. Twinkle, twinkle, little star, How I wonder what you are\"\n",
    "ans = ''\n",
    "for i in range(len(sample)):\n",
    "    if sample[i] == 'T':\n",
    "        for j in sample[i:]:\n",
    "            if j!= '!' and j != '.' and j != 'H':\n",
    "                ans += j\n",
    "            if j == 'H':\n",
    "                break\n",
    "    if sample[i] == 'H':\n",
    "        ans += '\\n\\t'\n",
    "        for j in sample[i:]:\n",
    "            if j != '!':\n",
    "                ans += j\n",
    "            else:\n",
    "                ans += j\n",
    "                break\n",
    "    if sample[i] == 'U':\n",
    "        ans += '\\n\\t\\t'\n",
    "        for j in sample[i:]:\n",
    "            if j != ',':\n",
    "                ans += j\n",
    "            else:\n",
    "                ans += ','\n",
    "                break\n",
    "    if sample[i] == 'L':\n",
    "        ans += '\\n\\t\\t'\n",
    "        for j in sample[i:]:\n",
    "            if j != '.':\n",
    "                ans += j\n",
    "            else:\n",
    "                ans += '.'\n",
    "                ans += '\\n'\n",
    "                break\n",
    "    \n",
    "    \n",
    "print(ans)"
   ]
  },
  {
   "cell_type": "code",
   "execution_count": 5,
   "metadata": {},
   "outputs": [
    {
     "name": "stdout",
     "output_type": "stream",
     "text": [
      "User Current Version:- 3.9.13 (main, Aug 25 2022, 23:51:50) [MSC v.1916 64 bit (AMD64)]\n"
     ]
    }
   ],
   "source": [
    "#2\n",
    "import sys\n",
    " \n",
    "print(\"User Current Version:-\", sys.version)"
   ]
  },
  {
   "cell_type": "code",
   "execution_count": 6,
   "metadata": {},
   "outputs": [
    {
     "name": "stdout",
     "output_type": "stream",
     "text": [
      "time 19:10:02 \n",
      "date 2022-12-01\n"
     ]
    }
   ],
   "source": [
    "#3\n",
    "from datetime import datetime, date\n",
    "\n",
    "now = datetime.now()\n",
    "\n",
    "current_time = now.strftime(\"%H:%M:%S\")\n",
    "\n",
    "print(f'time {current_time} \\ndate {date.today()}')"
   ]
  },
  {
   "cell_type": "code",
   "execution_count": 7,
   "metadata": {},
   "outputs": [
    {
     "name": "stdout",
     "output_type": "stream",
     "text": [
      "3.8013271108436504\n"
     ]
    }
   ],
   "source": [
    "#4\n",
    "import math\n",
    "\n",
    "def area(radius):\n",
    "    return math.pi * (radius ** 2)\n",
    "\n",
    "print(area(1.1))"
   ]
  },
  {
   "cell_type": "code",
   "execution_count": 9,
   "metadata": {},
   "outputs": [
    {
     "name": "stdout",
     "output_type": "stream",
     "text": [
      "O iahtneahT\n"
     ]
    }
   ],
   "source": [
    "#5\n",
    "firstName = 'Thaenthai'\n",
    "lastName = 'O'\n",
    "print(f'{lastName[::-1]} {firstName[::-1]}')"
   ]
  },
  {
   "cell_type": "code",
   "execution_count": 11,
   "metadata": {},
   "outputs": [
    {
     "name": "stdout",
     "output_type": "stream",
     "text": [
      "['3', ' 5', ' 7', ' 23']\n",
      "('3', ' 5', ' 7', ' 23')\n"
     ]
    }
   ],
   "source": [
    "#6\n",
    "sample = '3, 5, 7, 23'\n",
    "ans = sample.split(',')\n",
    "print(ans)\n",
    "print(tuple(ans))"
   ]
  },
  {
   "cell_type": "code",
   "execution_count": 12,
   "metadata": {},
   "outputs": [
    {
     "name": "stdout",
     "output_type": "stream",
     "text": [
      "java\n"
     ]
    }
   ],
   "source": [
    "#7\n",
    "fileName = 'abc.java'\n",
    "ans = fileName.split('.')\n",
    "print(ans[-1])\n",
    "\n"
   ]
  },
  {
   "cell_type": "code",
   "execution_count": 13,
   "metadata": {},
   "outputs": [
    {
     "name": "stdout",
     "output_type": "stream",
     "text": [
      "Red Black\n"
     ]
    }
   ],
   "source": [
    "#8\n",
    "color_list = [\"Red\",\"Green\",\"White\" ,\"Black\"]\n",
    "print(color_list[0], color_list[-1])"
   ]
  },
  {
   "cell_type": "code",
   "execution_count": 14,
   "metadata": {},
   "outputs": [
    {
     "name": "stdout",
     "output_type": "stream",
     "text": [
      "The examination will start from : 11 / 12 / 2014\n"
     ]
    }
   ],
   "source": [
    "#9\n",
    "exam_st_date = (11, 12, 2014)\n",
    "print(f'The examination will start from : {exam_st_date[0]} / {exam_st_date[1]} / {exam_st_date[2]}')"
   ]
  },
  {
   "cell_type": "code",
   "execution_count": 16,
   "metadata": {},
   "outputs": [
    {
     "name": "stdout",
     "output_type": "stream",
     "text": [
      "615\n"
     ]
    }
   ],
   "source": [
    "#10\n",
    "n = 5\n",
    "ans = []\n",
    "for i in range(3):\n",
    "    ans.append(str(n)*(i+1))\n",
    "    ans[i] = int(ans[i])\n",
    "print(sum(ans))"
   ]
  },
  {
   "cell_type": "code",
   "execution_count": 17,
   "metadata": {},
   "outputs": [
    {
     "name": "stdout",
     "output_type": "stream",
     "text": [
      "Return the absolute value of the argument.\n"
     ]
    }
   ],
   "source": [
    "#11\n",
    "print(abs.__doc__)"
   ]
  },
  {
   "cell_type": "code",
   "execution_count": 18,
   "metadata": {},
   "outputs": [
    {
     "name": "stdout",
     "output_type": "stream",
     "text": [
      "   December 2022\n",
      "Mo Tu We Th Fr Sa Su\n",
      "          1  2  3  4\n",
      " 5  6  7  8  9 10 11\n",
      "12 13 14 15 16 17 18\n",
      "19 20 21 22 23 24 25\n",
      "26 27 28 29 30 31\n",
      "\n"
     ]
    }
   ],
   "source": [
    "#12\n",
    "import calendar\n",
    "month = 12\n",
    "year = 2022\n",
    "print(calendar.month(year, month))"
   ]
  },
  {
   "cell_type": "code",
   "execution_count": 19,
   "metadata": {},
   "outputs": [
    {
     "name": "stdout",
     "output_type": "stream",
     "text": [
      "\n",
      "a string that you \"don't\" have to escape\n",
      "This\n",
      "is a  ....... multi-line\n",
      "heredoc string --------> example\n",
      "\n"
     ]
    }
   ],
   "source": [
    "#13\n",
    "print(\"\"\"\n",
    "a string that you \"don't\" have to escape\n",
    "This\n",
    "is a  ....... multi-line\n",
    "heredoc string --------> example\n",
    "\"\"\")"
   ]
  },
  {
   "cell_type": "code",
   "execution_count": 21,
   "metadata": {},
   "outputs": [
    {
     "name": "stdout",
     "output_type": "stream",
     "text": [
      "9 day\n"
     ]
    }
   ],
   "source": [
    "#14\n",
    "sample = [(2014, 7, 2), (2014, 7, 11)]\n",
    "print(f'{sample[1][-1] - sample[0][-1]} day')"
   ]
  },
  {
   "cell_type": "code",
   "execution_count": 22,
   "metadata": {},
   "outputs": [
    {
     "name": "stdout",
     "output_type": "stream",
     "text": [
      "904.7786842338603\n"
     ]
    }
   ],
   "source": [
    "#15\n",
    "import math\n",
    "def volume_sphere(radius = 6):\n",
    "    return (4/3) * math.pi * (radius ** 3)\n",
    "print(volume_sphere())"
   ]
  },
  {
   "cell_type": "code",
   "execution_count": 24,
   "metadata": {},
   "outputs": [
    {
     "name": "stdout",
     "output_type": "stream",
     "text": [
      "2 is less than 17\n",
      "double absolute difference between num and 17 is 6\n"
     ]
    }
   ],
   "source": [
    "#16\n",
    "def compare(num):\n",
    "   if num < 17:\n",
    "       return f'{num} is less than 17'\n",
    "   else:\n",
    "       return f'double absolute difference between num and 17 is {abs(num-17)*2}'\n",
    "print(compare(2))\n",
    "print(compare(20))"
   ]
  },
  {
   "cell_type": "code",
   "execution_count": 27,
   "metadata": {},
   "outputs": [
    {
     "name": "stdout",
     "output_type": "stream",
     "text": [
      "True\n",
      "True\n",
      "False\n",
      "False\n"
     ]
    }
   ],
   "source": [
    "#17\n",
    "def near_thousand(num):\n",
    "      return ((abs(1000 - num) <= 100) or (abs(2000 - num) <= 100))\n",
    "print(near_thousand(1000))\n",
    "print(near_thousand(900))\n",
    "print(near_thousand(700))   \n",
    "print(near_thousand(2300))"
   ]
  },
  {
   "cell_type": "code",
   "execution_count": 28,
   "metadata": {},
   "outputs": [
    {
     "name": "stdout",
     "output_type": "stream",
     "text": [
      "6\n",
      "12\n",
      "27\n"
     ]
    }
   ],
   "source": [
    "#18\n",
    "def sum(num1, num2, num3):\n",
    "    if num1 == num2 == num3:\n",
    "        return num1 ** 3\n",
    "    else:\n",
    "        return num1 + num2 + num3\n",
    "print(sum(1,2,3))\n",
    "print(sum(3,4,5))\n",
    "print(sum(3,3,3))"
   ]
  },
  {
   "cell_type": "code",
   "execution_count": 30,
   "metadata": {},
   "outputs": [
    {
     "name": "stdout",
     "output_type": "stream",
     "text": [
      "lsIsHere\n",
      "lsnols\n"
     ]
    }
   ],
   "source": [
    "#19\n",
    "def addString(string):\n",
    "    if string[0:2] == 'ls':\n",
    "        return string\n",
    "    else:\n",
    "        return f'ls{string}'\n",
    "print(addString('lsIsHere'))\n",
    "print(addString('nols'))    \n"
   ]
  },
  {
   "cell_type": "code",
   "execution_count": 32,
   "metadata": {},
   "outputs": [
    {
     "name": "stdout",
     "output_type": "stream",
     "text": [
      ".exe.exe.exe\n",
      "-3 is not non-negative number\n",
      "\n"
     ]
    }
   ],
   "source": [
    "#20\n",
    "def copy(string, num):\n",
    "    if num >= 0:\n",
    "        return string * num\n",
    "    else:\n",
    "        return f'{num} is not non-negative number'\n",
    "print(copy('.exe', 3))\n",
    "print(copy('.exe', -3))\n",
    "print(copy('.exe', 0))  \n"
   ]
  },
  {
   "cell_type": "code",
   "execution_count": 1,
   "metadata": {},
   "outputs": [
    {
     "name": "stdout",
     "output_type": "stream",
     "text": [
      "1 is odd number\n",
      "0 is even number\n",
      "3 is odd number\n",
      "500 is even number\n"
     ]
    }
   ],
   "source": [
    "#21\n",
    "def check_even_odd(num):\n",
    "    if num % 2 == 0 or num == 0:\n",
    "        return f'{num} is even number'\n",
    "    if num % 3 == 0 or num == 1:\n",
    "        return f'{num} is odd number'\n",
    "print(check_even_odd(1))\n",
    "print(check_even_odd(0))\n",
    "print(check_even_odd(3))\n",
    "print(check_even_odd(500))"
   ]
  },
  {
   "cell_type": "code",
   "execution_count": 1,
   "metadata": {},
   "outputs": [
    {
     "name": "stdout",
     "output_type": "stream",
     "text": [
      "number 4 in list is 2\n",
      "number 4 in list is 5\n",
      "number 4 in list is 0\n"
     ]
    }
   ],
   "source": [
    "#22\n",
    "def find_4(list):\n",
    "    count = 0\n",
    "    for i in list:\n",
    "        if i == 4:\n",
    "            count += 1\n",
    "    return f'number 4 in list is {count}'\n",
    "print(find_4([1,1,4,4]))\n",
    "print(find_4([1,1,4,4,4,4,4]))\n",
    "print(find_4([1,1]))"
   ]
  },
  {
   "cell_type": "code",
   "execution_count": 4,
   "metadata": {},
   "outputs": [
    {
     "name": "stdout",
     "output_type": "stream",
     "text": [
      "abc 3\n",
      "a 4\n",
      "thaen 0\n",
      "thaen -1\n"
     ]
    }
   ],
   "source": [
    "#23\n",
    "def copy_text(string, num):\n",
    "    if num <= 0:\n",
    "        return f'{num} is not not-negative integer'\n",
    "    if len(string) < 2:\n",
    "        return string * num\n",
    "    else:\n",
    "        return string[:2] * num\n",
    "print('abc',3)\n",
    "print('a',4)\n",
    "print('thaen',0)\n",
    "print('thaen',-1)\n"
   ]
  },
  {
   "cell_type": "code",
   "execution_count": 8,
   "metadata": {},
   "outputs": [
    {
     "name": "stdout",
     "output_type": "stream",
     "text": [
      "a is vowel\n",
      "e is vowel\n",
      "0 is not vowel\n",
      " is not vowel\n"
     ]
    }
   ],
   "source": [
    "#24\n",
    "def check_vowel(string):\n",
    "    vowel = 'aeiou'\n",
    "    if string in vowel and string != '':\n",
    "        return f'{string} is vowel'\n",
    "    else:\n",
    "        return f'{string} is not vowel'\n",
    "print(check_vowel('a'))\n",
    "print(check_vowel('e'))\n",
    "print(check_vowel('0'))\n",
    "print(check_vowel(''))"
   ]
  },
  {
   "cell_type": "code",
   "execution_count": 9,
   "metadata": {},
   "outputs": [
    {
     "name": "stdout",
     "output_type": "stream",
     "text": [
      "3 is in [1, 5, 8, 3]\n",
      "-1 is not in [1, 5, 8, 3]\n"
     ]
    }
   ],
   "source": [
    "#25\n",
    "def check_value(num, list):\n",
    "    for i in list:\n",
    "        if i == num:\n",
    "            return f'{num} is in {list}'\n",
    "    return f'{num} is not in {list}'\n",
    "print(check_value(3, [1, 5, 8, 3]))\n",
    "print(check_value(-1, [1, 5, 8, 3]))\n",
    "\n"
   ]
  },
  {
   "cell_type": "code",
   "execution_count": 12,
   "metadata": {},
   "outputs": [
    {
     "name": "stdout",
     "output_type": "stream",
     "text": [
      "**\n",
      "*\n",
      "***\n",
      "****\n"
     ]
    }
   ],
   "source": [
    "#26\n",
    "def histogram(list):\n",
    "    for i in range(len(list)):\n",
    "        print('*'*list[i])\n",
    "histogram([2,1,3,4])"
   ]
  },
  {
   "cell_type": "code",
   "execution_count": 17,
   "metadata": {},
   "outputs": [
    {
     "name": "stdout",
     "output_type": "stream",
     "text": [
      "1234\n",
      "abcdef\n",
      "10001200\n",
      "-1-421\n"
     ]
    }
   ],
   "source": [
    "#27\n",
    "def concat(list):\n",
    "    for i in range(len(list)):\n",
    "        list[i] = str(list[i])\n",
    "    return ('').join(list)\n",
    "print(concat([1,2,3,4]))\n",
    "print(concat(['ab','cd','ef']))\n",
    "print(concat([100,0,1,200]))\n",
    "print(concat([-1,-4,2,1]))\n"
   ]
  },
  {
   "cell_type": "code",
   "execution_count": 18,
   "metadata": {},
   "outputs": [
    {
     "name": "stdout",
     "output_type": "stream",
     "text": [
      "[386, 462, 418, 344, 236, 566, 978, 328, 162, 758, 918]\n"
     ]
    }
   ],
   "source": [
    "#28\n",
    "def even_before237(list):\n",
    "    ans = []\n",
    "    for i in range(len(list)):\n",
    "        if list[i] == 237:\n",
    "            return ans\n",
    "        if list[i] % 2 == 0:\n",
    "          ans.append(list[i])\n",
    "numbers = [    \n",
    "    386, 462, 47, 418, 907, 344, 236, 375, 823, 566, 597, 978, 328, 615, 953, 345, \n",
    "    399, 162, 758, 219, 918, 237, 412, 566, 826, 248, 866, 950, 626, 949, 687, 217, \n",
    "    815, 67, 104, 58, 512, 24, 892, 894, 767, 553, 81, 379, 843, 831, 445, 742, 717, \n",
    "    958,743, 527\n",
    "    ]\n",
    "print(even_before237(numbers))          "
   ]
  },
  {
   "cell_type": "code",
   "execution_count": 28,
   "metadata": {},
   "outputs": [
    {
     "name": "stdout",
     "output_type": "stream",
     "text": [
      "['White', 'Black']\n"
     ]
    }
   ],
   "source": [
    "#29\n",
    "def check_color(list1, list2):\n",
    "    ans = []\n",
    "    for i in list1:\n",
    "        if i not in list2:\n",
    "            ans.append(i)\n",
    "    return ans\n",
    "color_list_1 = set([\"White\", \"Black\", \"Red\"])\n",
    "color_list_2 = set([\"Red\", \"Green\"])\n",
    "print(check_color(color_list_1, color_list_2))"
   ]
  },
  {
   "cell_type": "code",
   "execution_count": 29,
   "metadata": {},
   "outputs": [
    {
     "name": "stdout",
     "output_type": "stream",
     "text": [
      "triangle area = 1.5\n",
      "triangle area = 15.0\n",
      "triangle area = 10.0\n"
     ]
    }
   ],
   "source": [
    "#30\n",
    "def triangle(base, height):\n",
    "    return f'triangle area = {(1/2) * base * height}'\n",
    "print(triangle(1,3))\n",
    "print(triangle(3,10))\n",
    "print(triangle(4,5))\n"
   ]
  },
  {
   "cell_type": "code",
   "execution_count": 15,
   "metadata": {},
   "outputs": [
    {
     "name": "stdout",
     "output_type": "stream",
     "text": [
      "gcd of (1, 4) is 1\n",
      "gcd of (4, 1) is 1\n",
      "gcd of (20, 10) is 10\n",
      "gcd of (7, 21) is 7\n",
      "gcd of (300, 303) is 3\n",
      "gcd of (300, 330) is 30\n",
      "gcd of (200, 204) is 4\n",
      "gcd of (40, 60) is 20\n"
     ]
    }
   ],
   "source": [
    "#31\n",
    "def find_gcd(num1,num2):\n",
    "    listNum = sorted([num1, num2])\n",
    "    if listNum[1] % listNum[0] == 0:\n",
    "        return f'gcd of {num1, num2} is {listNum[0]}'\n",
    "    for i in range(listNum[1], 1, -1):\n",
    "        if num1 % i == 0 and num2 % i ==0:\n",
    "            return f'gcd of {num1, num2} is {i}'\n",
    "print(find_gcd(1,4))\n",
    "print(find_gcd(4,1))\n",
    "print(find_gcd(20,10))\n",
    "print(find_gcd(7,21))\n",
    "print(find_gcd(300,303))\n",
    "print(find_gcd(300,330))\n",
    "print(find_gcd(200,204))\n",
    "print(find_gcd(40,60))\n"
   ]
  },
  {
   "cell_type": "code",
   "execution_count": 18,
   "metadata": {},
   "outputs": [
    {
     "name": "stdout",
     "output_type": "stream",
     "text": [
      "lcm of (1, 4) is 1\n",
      "lcm of (4, 1) is 1\n",
      "lcm of (20, 10) is 2\n",
      "lcm of (7, 21) is 7\n",
      "lcm of (300, 303) is 3\n",
      "lcm of (300, 330) is 2\n",
      "lcm of (200, 204) is 2\n",
      "lcm of (40, 60) is 2\n"
     ]
    }
   ],
   "source": [
    "#32\n",
    "def find_lcm(num1,num2):\n",
    "    listNum = sorted([num1, num2])\n",
    "    for i in range(2, listNum[1], 1):\n",
    "        if num1 % i == 0 and num2 % i ==0:\n",
    "            return f'lcm of {num1, num2} is {i}'\n",
    "    if listNum[0] == 1:\n",
    "        return f'lcm of {num1, num2} is {1}'\n",
    "print(find_lcm(1,4))\n",
    "print(find_lcm(4,1))\n",
    "print(find_lcm(20,10))\n",
    "print(find_lcm(7,21))\n",
    "print(find_lcm(300,303))\n",
    "print(find_lcm(300,330))\n",
    "print(find_lcm(200,204))\n",
    "print(find_lcm(40,60))"
   ]
  },
  {
   "cell_type": "code",
   "execution_count": 19,
   "metadata": {},
   "outputs": [
    {
     "name": "stdout",
     "output_type": "stream",
     "text": [
      "sum of [3, 4, 5] equal to 12\n",
      "sum equal to 0 because 2 value are equal: [100, 100, 200]\n",
      "sum equal to 0 because 2 value are equal: [300, 300, 400]\n",
      "sum of [301, 302, 303] equal to 906\n"
     ]
    }
   ],
   "source": [
    "#33\n",
    "def three_sum(num1, num2, num3):\n",
    "    listNum = sorted([num1, num2, num3])\n",
    "    if listNum[0] == listNum[1] or listNum[1] == listNum[2]:\n",
    "        return f'sum equal to 0 because 2 value are equal: {listNum}'\n",
    "    return f'sum of {listNum} equal to {sum(listNum)}'\n",
    "print(three_sum(3,4,5))\n",
    "print(three_sum(100,200,100))\n",
    "print(three_sum(300,300,400))\n",
    "print(three_sum(301,302,303))"
   ]
  },
  {
   "cell_type": "code",
   "execution_count": 21,
   "metadata": {},
   "outputs": [
    {
     "name": "stdout",
     "output_type": "stream",
     "text": [
      "sum of (1, 2) = 3\n",
      "sum of (7, 8) is between 15-20 so it be 20\n",
      "sum of (19, 20) = 39\n"
     ]
    }
   ],
   "source": [
    "#34\n",
    "def sum_two(num1, num2):\n",
    "    ans = num1+num2\n",
    "    if ans >= 15 and ans <= 20:\n",
    "        return f'sum of {num1,num2} is between 15-20 so it be 20'\n",
    "    return f'sum of {num1,num2} = {ans}'\n",
    "print(sum_two(1,2))\n",
    "print(sum_two(7,8))\n",
    "print(sum_two(19,20))"
   ]
  },
  {
   "cell_type": "code",
   "execution_count": 23,
   "metadata": {},
   "outputs": [
    {
     "name": "stdout",
     "output_type": "stream",
     "text": [
      "True\n",
      "True\n",
      "True\n",
      "False\n",
      "False\n"
     ]
    }
   ],
   "source": [
    "#35\n",
    "def check_true(num1,num2):\n",
    "    if num1 == num2 or num1 + num2 == 5 or num1-num2 == 5:\n",
    "        return True\n",
    "    return False\n",
    "print(check_true(7,2))\n",
    "print(check_true(3,2))\n",
    "print(check_true(2,2))\n",
    "print(check_true(7,3))\n",
    "print(check_true(27,53))"
   ]
  },
  {
   "cell_type": "code",
   "execution_count": 24,
   "metadata": {},
   "outputs": [
    {
     "name": "stdout",
     "output_type": "stream",
     "text": [
      "30\n",
      "input must be integer\n",
      "input must be integer\n",
      "input must be integer\n"
     ]
    }
   ],
   "source": [
    "#36\n",
    "def add_obj(obj1, obj2):\n",
    "    if type(obj1) == int and type(obj2) == int:\n",
    "        return obj1 + obj2\n",
    "    else:\n",
    "        return f'input must be integer'\n",
    "print(add_obj(10, 20))\n",
    "print(add_obj(10, 20.23))\n",
    "print(add_obj('5', 6))\n",
    "print(add_obj('5', '6'))"
   ]
  },
  {
   "cell_type": "code",
   "execution_count": 26,
   "metadata": {},
   "outputs": [
    {
     "name": "stdout",
     "output_type": "stream",
     "text": [
      "name: tanisa124 \n",
      "age: NaN \n",
      "address: Mooncave\n"
     ]
    }
   ],
   "source": [
    "#37\n",
    "def my_info():\n",
    "    return f'name: tanisa124 \\nage: NaN \\naddress: Mooncave'\n",
    "print(my_info())"
   ]
  },
  {
   "cell_type": "code",
   "execution_count": 32,
   "metadata": {},
   "outputs": [
    {
     "name": "stdout",
     "output_type": "stream",
     "text": [
      "(3+4)^2 = 49\n",
      "(3+5)^2 = 64\n",
      "(3+10)^2 = 169\n",
      "(3+20)^2 = 529\n"
     ]
    }
   ],
   "source": [
    "#38\n",
    "def square(x, y):\n",
    "    return f'({x}+{y})^2 = {(x+y)**2}'\n",
    "print(square(3,4))\n",
    "print(square(3,5))\n",
    "print(square(3,10))\n",
    "print(square(3,20))"
   ]
  },
  {
   "cell_type": "code",
   "execution_count": 33,
   "metadata": {},
   "outputs": [
    {
     "name": "stdout",
     "output_type": "stream",
     "text": [
      "12722.792627665736\n"
     ]
    }
   ],
   "source": [
    "#39\n",
    "def investment(amount, roi, year):\n",
    "    for i in range(year):\n",
    "        amount = (amount * roi/100) + amount\n",
    "    return amount\n",
    "print(investment(10000, 3.5, 7))"
   ]
  },
  {
   "cell_type": "code",
   "execution_count": 34,
   "metadata": {},
   "outputs": [
    {
     "name": "stdout",
     "output_type": "stream",
     "text": [
      "6.324555320336759\n"
     ]
    }
   ],
   "source": [
    "#40\n",
    "import math\n",
    "def coordinate(coor1, coor2):\n",
    "    return math.sqrt((coor1[0]-coor2[0])**2+(coor1[1]-coor2[1])**2)\n",
    "print(coordinate([4,0],[6,6]))"
   ]
  },
  {
   "cell_type": "code",
   "execution_count": 4,
   "metadata": {},
   "outputs": [
    {
     "name": "stdout",
     "output_type": "stream",
     "text": [
      "False\n",
      "False\n",
      "file name is not string\n"
     ]
    }
   ],
   "source": [
    "#41\n",
    "import os.path\n",
    "def check_file(fileName):\n",
    "    if type(fileName) == str:\n",
    "        return os.path.isfile(fileName)\n",
    "    return f'file name is not string'\n",
    "print(check_file('main.txt'))\n",
    "print(check_file('main.py'))\n",
    "print(check_file(123))"
   ]
  },
  {
   "cell_type": "code",
   "execution_count": 10,
   "metadata": {},
   "outputs": [
    {
     "name": "stdout",
     "output_type": "stream",
     "text": [
      "64bit\n"
     ]
    }
   ],
   "source": [
    "#42\n",
    "import platform\n",
    "print(platform.architecture()[0])"
   ]
  },
  {
   "cell_type": "code",
   "execution_count": 11,
   "metadata": {},
   "outputs": [
    {
     "name": "stdout",
     "output_type": "stream",
     "text": [
      "Name of the operating system: nt\n",
      "\n",
      "Name of the OS system: Windows\n",
      "\n",
      "Version of the operating system: 10\n"
     ]
    }
   ],
   "source": [
    "#43\n",
    "import platform\n",
    "import os\n",
    "print(\"Name of the operating system:\",os.name)\n",
    "print(\"\\nName of the OS system:\",platform.system())\n",
    "print(\"\\nVersion of the operating system:\",platform.release())"
   ]
  },
  {
   "cell_type": "code",
   "execution_count": 17,
   "metadata": {},
   "outputs": [
    {
     "name": "stdout",
     "output_type": "stream",
     "text": [
      "['c:\\\\Users\\\\NeahtX\\\\AppData\\\\Local\\\\Programs\\\\Python\\\\Python39', 'c:\\\\Users\\\\NeahtX\\\\AppData\\\\Local\\\\Programs\\\\Python\\\\Python39\\\\lib\\\\site-packages']\n"
     ]
    }
   ],
   "source": [
    "#44\n",
    "import site; \n",
    "print(site.getsitepackages())"
   ]
  },
  {
   "cell_type": "code",
   "execution_count": 20,
   "metadata": {},
   "outputs": [
    {
     "name": "stdout",
     "output_type": "stream",
     "text": [
      "1\n"
     ]
    }
   ],
   "source": [
    "#45\n",
    "import os\n",
    "print(os.system('ls -l'))"
   ]
  },
  {
   "cell_type": "code",
   "execution_count": null,
   "metadata": {},
   "outputs": [],
   "source": [
    "#46\n",
    "import os\n",
    "print(\"Current File Name : \",os.path.realpath(__file__))"
   ]
  },
  {
   "cell_type": "code",
   "execution_count": 29,
   "metadata": {},
   "outputs": [
    {
     "name": "stdout",
     "output_type": "stream",
     "text": [
      "12\n"
     ]
    }
   ],
   "source": [
    "#47\n",
    "import multiprocessing\n",
    "print(multiprocessing.cpu_count())"
   ]
  },
  {
   "cell_type": "code",
   "execution_count": 30,
   "metadata": {},
   "outputs": [
    {
     "name": "stdout",
     "output_type": "stream",
     "text": [
      "123\n",
      "123.12\n",
      "0.0\n"
     ]
    }
   ],
   "source": [
    "#48\n",
    "def toFloatorInt(string):\n",
    "    if '.' in string:\n",
    "        return float(string)\n",
    "    return int(string)\n",
    "print(toFloatorInt('123'))\n",
    "print(toFloatorInt('123.12'))\n",
    "print(toFloatorInt('00.00'))"
   ]
  },
  {
   "cell_type": "code",
   "execution_count": 35,
   "metadata": {},
   "outputs": [
    {
     "name": "stdout",
     "output_type": "stream",
     "text": [
      "['exercise.ipynb', 'python-basic1.py', 'python-basic2.py', 'test.py']\n"
     ]
    }
   ],
   "source": [
    "#49\n",
    "from os import listdir\n",
    "from os.path import isfile, join\n",
    "files_list = [f for f in listdir('../w3-exercise/') if isfile(join('../w3-exercise/', f))]\n",
    "print(files_list)\n"
   ]
  },
  {
   "cell_type": "code",
   "execution_count": 40,
   "metadata": {},
   "outputs": [
    {
     "name": "stdout",
     "output_type": "stream",
     "text": [
      "abcabc\n",
      "123123\n",
      "abc123abc\n"
     ]
    }
   ],
   "source": [
    "#50\n",
    "def noNewlineOrSpace(string):\n",
    "    arg = [\" \", \"\\n\"]\n",
    "    for i in arg:\n",
    "        if i in string:\n",
    "            list = string.split(i)\n",
    "            string = ('').join(list)\n",
    "    return string\n",
    "print(noNewlineOrSpace('abc abc'))\n",
    "print(noNewlineOrSpace('123\\n123'))\n",
    "print(noNewlineOrSpace('abc \\n123 \\nabc'))"
   ]
  },
  {
   "cell_type": "code",
   "execution_count": 2,
   "metadata": {},
   "outputs": [
    {
     "name": "stdout",
     "output_type": "stream",
     "text": [
      "30\n",
      "         29 function calls in 0.000 seconds\n",
      "\n",
      "   Ordered by: standard name\n",
      "\n",
      "   ncalls  tottime  percall  cumtime  percall filename:lineno(function)\n",
      "        1    0.000    0.000    0.000    0.000 3700486100.py:2(test_sum)\n",
      "        1    0.000    0.000    0.000    0.000 <string>:1(<module>)\n",
      "        1    0.000    0.000    0.000    0.000 iostream.py:202(schedule)\n",
      "        2    0.000    0.000    0.000    0.000 iostream.py:437(_is_master_process)\n",
      "        2    0.000    0.000    0.000    0.000 iostream.py:456(_schedule_flush)\n",
      "        2    0.000    0.000    0.000    0.000 iostream.py:526(write)\n",
      "        1    0.000    0.000    0.000    0.000 iostream.py:90(_event_pipe)\n",
      "        1    0.000    0.000    0.000    0.000 socket.py:545(send)\n",
      "        1    0.000    0.000    0.000    0.000 threading.py:1059(_wait_for_tstate_lock)\n",
      "        1    0.000    0.000    0.000    0.000 threading.py:1113(is_alive)\n",
      "        1    0.000    0.000    0.000    0.000 threading.py:529(is_set)\n",
      "        1    0.000    0.000    0.000    0.000 {built-in method builtins.exec}\n",
      "        2    0.000    0.000    0.000    0.000 {built-in method builtins.isinstance}\n",
      "        2    0.000    0.000    0.000    0.000 {built-in method builtins.len}\n",
      "        1    0.000    0.000    0.000    0.000 {built-in method builtins.print}\n",
      "        2    0.000    0.000    0.000    0.000 {built-in method nt.getpid}\n",
      "        2    0.000    0.000    0.000    0.000 {method '__exit__' of '_thread.RLock' objects}\n",
      "        1    0.000    0.000    0.000    0.000 {method 'acquire' of '_thread.lock' objects}\n",
      "        1    0.000    0.000    0.000    0.000 {method 'append' of 'collections.deque' objects}\n",
      "        1    0.000    0.000    0.000    0.000 {method 'disable' of '_lsprof.Profiler' objects}\n",
      "        2    0.000    0.000    0.000    0.000 {method 'write' of '_io.StringIO' objects}\n",
      "\n",
      "\n"
     ]
    }
   ],
   "source": [
    "#51\n",
    "import cProfile\n",
    "def test_sum(num1, num2):\n",
    "    return print(num1 + num2)\n",
    "cProfile.run('test_sum(10,20)')"
   ]
  },
  {
   "cell_type": "code",
   "execution_count": 4,
   "metadata": {},
   "outputs": [
    {
     "name": "stderr",
     "output_type": "stream",
     "text": [
      "abc--def--ghi\n"
     ]
    }
   ],
   "source": [
    "#52\n",
    "#from __future__ import print_function \n",
    "import sys\n",
    "\n",
    "def eprint(*args, **kwargs):\n",
    "    print(*args, file=sys.stderr, **kwargs)\n",
    "\n",
    "eprint(\"abc\", \"def\", \"ghi\", sep=\"--\")"
   ]
  },
  {
   "cell_type": "code",
   "execution_count": null,
   "metadata": {},
   "outputs": [],
   "source": [
    "#53\n",
    "import os\n",
    "# Access all environment variables \n",
    "print('*----------------------------------*')\n",
    "print(os.environ)\n",
    "print('*----------------------------------*')\n"
   ]
  },
  {
   "cell_type": "code",
   "execution_count": null,
   "metadata": {},
   "outputs": [],
   "source": [
    "#54\n",
    "import getpass\n",
    "print(getpass.getuser())"
   ]
  },
  {
   "cell_type": "code",
   "execution_count": null,
   "metadata": {},
   "outputs": [],
   "source": [
    "#55\n",
    "import socket\n",
    "print([l for l in ([ip for ip in socket.gethostbyname_ex(socket.gethostname())[2] \n",
    "if not ip.startswith(\"127.\")][:1], [[(s.connect(('8.8.8.8', 53)), \n",
    "s.getsockname()[0], s.close()) for s in [socket.socket(socket.AF_INET, \n",
    "socket.SOCK_DGRAM)]][0][1]]) if l][0][0])"
   ]
  },
  {
   "cell_type": "code",
   "execution_count": null,
   "metadata": {},
   "outputs": [],
   "source": [
    "#56\n",
    "import os\n",
    "def size():\n",
    "    return os.get_terminal_size()\n",
    "print(size())\n"
   ]
  },
  {
   "cell_type": "code",
   "execution_count": 21,
   "metadata": {},
   "outputs": [
    {
     "name": "stdout",
     "output_type": "stream",
     "text": [
      "8\n",
      "81\n",
      "1024\n",
      "Duration: 0:00:00.001002\n"
     ]
    }
   ],
   "source": [
    "#57\n",
    "from datetime import datetime\n",
    "start_time = datetime.now()\n",
    "def test_power(num1, num2):\n",
    "    return num1 ** num2\n",
    "print(test_power(2,3))\n",
    "print(test_power(3,4))\n",
    "print(test_power(4,5))\n",
    "end_time = datetime.now()\n",
    "print('Duration: {}'.format(end_time - start_time))"
   ]
  },
  {
   "cell_type": "code",
   "execution_count": 24,
   "metadata": {},
   "outputs": [
    {
     "name": "stdout",
     "output_type": "stream",
     "text": [
      "arithmetic sum = 36\n",
      "arithmetic sum = 55\n",
      "arithmetic sum = 120\n"
     ]
    }
   ],
   "source": [
    "#58\n",
    "def arithmetic_sum(num):\n",
    "    return f'arithmetic sum = {int((num/2)*(2+(num-1)))}'\n",
    "print(arithmetic_sum(8))\n",
    "print(arithmetic_sum(10))\n",
    "print(arithmetic_sum(15))"
   ]
  },
  {
   "cell_type": "code",
   "execution_count": 26,
   "metadata": {},
   "outputs": [
    {
     "name": "stdout",
     "output_type": "stream",
     "text": [
      "height = 355.6 cm\n",
      "height = 177.8 cm\n",
      "height = 122.3772 cm\n"
     ]
    }
   ],
   "source": [
    "#59\n",
    "def conv_height_ft_inch(ft, inch):\n",
    "    return f'height = {(ft * 30.48) + (inch * 2.54)} cm'\n",
    "print(conv_height_ft_inch(10,20))\n",
    "print(conv_height_ft_inch(5,10))\n",
    "print(conv_height_ft_inch(3.45,6.78))"
   ]
  },
  {
   "cell_type": "code",
   "execution_count": 27,
   "metadata": {},
   "outputs": [
    {
     "name": "stdout",
     "output_type": "stream",
     "text": [
      "5.0\n",
      "14.142135623730951\n",
      "25.0\n"
     ]
    }
   ],
   "source": [
    "#60\n",
    "import math\n",
    "def hypotenuse(a ,b):\n",
    "    return math.sqrt((a**2) + (b**2))\n",
    "print(hypotenuse(3,4))\n",
    "print(hypotenuse(10,10))\n",
    "print(hypotenuse(15,20))"
   ]
  },
  {
   "cell_type": "code",
   "execution_count": 2,
   "metadata": {},
   "outputs": [
    {
     "name": "stdout",
     "output_type": "stream",
     "text": [
      "feet = 300\n",
      "inches = 3600\n",
      "yard = 100.0\n",
      "miles = 0.056818181818181816\n",
      "feet = 30\n",
      "inches = 360\n",
      "yard = 10.0\n",
      "miles = 0.005681818181818182\n",
      "feet = 3\n",
      "inches = 36\n",
      "yard = 1.0\n",
      "miles = 0.0005681818181818182\n",
      "feet = 30000\n",
      "inches = 360000\n",
      "yard = 10000.0\n",
      "miles = 5.681818181818182\n"
     ]
    }
   ],
   "source": [
    "#61\n",
    "def feet2three(feet):\n",
    "    return f'feet = {feet}\\ninches = {int(feet*12)}\\nyard = {feet/3}\\nmiles = {feet/5280}'\n",
    "print(feet2three(300))\n",
    "print(feet2three(30))\n",
    "print(feet2three(3))\n",
    "print(feet2three(30000))"
   ]
  },
  {
   "cell_type": "code",
   "execution_count": 3,
   "metadata": {},
   "outputs": [
    {
     "name": "stdout",
     "output_type": "stream",
     "text": [
      "the amount of seconds = 95424 seconds\n",
      "the amount of seconds = 0 seconds\n"
     ]
    }
   ],
   "source": [
    "#62\n",
    "def time2seconds(day = 0, hours = 0, minutes = 0, seconds = 0):\n",
    "    return f'the amount of seconds = {day*3600*24 + hours * 3600 + minutes * 60 + seconds} seconds'\n",
    "print(time2seconds(1,2,30,24))\n",
    "print(time2seconds())\n"
   ]
  },
  {
   "cell_type": "code",
   "execution_count": null,
   "metadata": {},
   "outputs": [],
   "source": [
    "#63\n",
    "def absolute_file_path(path_fname):\n",
    "        import os\n",
    "        return os.path.abspath('path_fname')        \n",
    "print(\"Absolute file path: \",absolute_file_path(\"test.txt\"))\n"
   ]
  },
  {
   "cell_type": "code",
   "execution_count": 6,
   "metadata": {},
   "outputs": [
    {
     "name": "stdout",
     "output_type": "stream",
     "text": [
      "Last modified: Wed Dec  7 15:29:39 2022\n",
      "Created: Sun Dec  4 16:00:50 2022\n"
     ]
    }
   ],
   "source": [
    "#64\n",
    "import os.path, time\n",
    "print(\"Last modified: %s\" % time.ctime(os.path.getmtime(\"exercise.ipynb\")))\n",
    "print(\"Created: %s\" % time.ctime(os.path.getctime(\"exercise.ipynb\")))\n"
   ]
  },
  {
   "cell_type": "code",
   "execution_count": 2,
   "metadata": {},
   "outputs": [
    {
     "name": "stdout",
     "output_type": "stream",
     "text": [
      "days: 0\n",
      "hours: 5\n",
      "minutes: 33\n",
      "seconds: 20\n",
      "days: 11\n",
      "hours: 13\n",
      "minutes: 46\n",
      "seconds: 40\n"
     ]
    }
   ],
   "source": [
    "#65\n",
    "def seconds2all(seconds):\n",
    "    days = seconds // (3600 * 24)\n",
    "    seconds = seconds % (3600 * 24)\n",
    "    hours = seconds // 3600\n",
    "    seconds = seconds % 3600\n",
    "    minutes = seconds // 60\n",
    "    seconds = seconds % 60\n",
    "    return f'days: {days}\\nhours: {hours}\\nminutes: {minutes}\\nseconds: {seconds}'\n",
    "\n",
    "print(seconds2all(20000))\n",
    "print(seconds2all(10**6))\n",
    "\n"
   ]
  },
  {
   "cell_type": "code",
   "execution_count": 5,
   "metadata": {},
   "outputs": [
    {
     "name": "stdout",
     "output_type": "stream",
     "text": [
      "height = 1.84 m\n",
      "weight = 75 kg\n",
      "bmi = 22.152646502835537\n",
      "----\n",
      "height = 1.65 m\n",
      "weight = 51 kg\n",
      "bmi = 18.73278236914601\n",
      "----\n"
     ]
    }
   ],
   "source": [
    "#66\n",
    "def cal_bmi(height, weight):\n",
    "    return f'height = {height} m\\nweight = {weight} kg\\nbmi = {weight / (height ** 2)}\\n----'\n",
    "print(cal_bmi(1.84, 75))\n",
    "print(cal_bmi(1.65, 51))\n"
   ]
  },
  {
   "cell_type": "code",
   "execution_count": 6,
   "metadata": {},
   "outputs": [
    {
     "name": "stdout",
     "output_type": "stream",
     "text": [
      "kPa = 1\n",
      "kPa to psi = 0.14503773773020923 psi\n",
      "kPa to mmHg = 7.50062 mmHg\n",
      "kPa to atm = 0.009869232667160128 atm\n",
      " ----\n",
      "kPa = 10\n",
      "kPa to psi = 1.4503773773020923 psi\n",
      "kPa to mmHg = 75.00619999999999 mmHg\n",
      "kPa to atm = 0.09869232667160127 atm\n",
      " ----\n",
      "kPa = 100\n",
      "kPa to psi = 14.503773773020923 psi\n",
      "kPa to mmHg = 750.062 mmHg\n",
      "kPa to atm = 0.9869232667160128 atm\n",
      " ----\n",
      "kPa = 1000\n",
      "kPa to psi = 145.03773773020922 psi\n",
      "kPa to mmHg = 7500.62 mmHg\n",
      "kPa to atm = 9.869232667160128 atm\n",
      " ----\n"
     ]
    }
   ],
   "source": [
    "#67\n",
    "def pressure_conv(kPa):\n",
    "    conv_psi = 0.14503773773020923\n",
    "    conv_mmHg = 7.50062\n",
    "    conv_atm = 0.009869232667160128\n",
    "    return (\n",
    "        f'kPa = {kPa}\\n'\n",
    "        f'kPa to psi = {kPa * conv_psi} psi\\n'\n",
    "        f'kPa to mmHg = {kPa * conv_mmHg} mmHg\\n'\n",
    "        f'kPa to atm = {kPa * conv_atm} atm\\n ----'\n",
    "    )\n",
    "print(pressure_conv(1))\n",
    "print(pressure_conv(10))\n",
    "print(pressure_conv(100))\n",
    "print(pressure_conv(1000))"
   ]
  },
  {
   "cell_type": "code",
   "execution_count": 7,
   "metadata": {},
   "outputs": [
    {
     "name": "stdout",
     "output_type": "stream",
     "text": [
      "sum of 1000 = 1\n",
      " ---\n",
      "sum of 1234 = 10\n",
      " ---\n",
      "sum of 123456789 = 45\n",
      " ---\n"
     ]
    }
   ],
   "source": [
    "#68\n",
    "def sum_digit(num):\n",
    "    num_str = str(num); ans = 0\n",
    "    for i in num_str:\n",
    "        ans += int(i)\n",
    "    return f'sum of {num} = {ans}\\n ---'\n",
    "print(sum_digit(1000))\n",
    "print(sum_digit(1234))\n",
    "print(sum_digit(123456789))"
   ]
  },
  {
   "cell_type": "code",
   "execution_count": 2,
   "metadata": {},
   "outputs": [
    {
     "name": "stdout",
     "output_type": "stream",
     "text": [
      "sorted of (3, 2, 1) is (1, 2, 3)\n",
      "sorted of (320, 578, -3) is (-3, 320, 578)\n"
     ]
    }
   ],
   "source": [
    "#69\n",
    "def sort_without(num1, num2, num3):\n",
    "    maxNum = max(num1, num2, num3)\n",
    "    minNum = min(num1, num2, num3)\n",
    "    midNum = sum((num1, num2, num3)) - maxNum - minNum\n",
    "    return f'sorted of {num1, num2, num3} is {minNum, midNum, maxNum}'\n",
    "print(sort_without(3,2,1))\n",
    "print(sort_without(320,578,-3))"
   ]
  },
  {
   "cell_type": "code",
   "execution_count": null,
   "metadata": {},
   "outputs": [],
   "source": [
    "#70\n",
    "import glob\n",
    "import os\n",
    "\n",
    "files = glob.glob(\"*.txt\")\n",
    "files.sort(key=os.path.getmtime)\n",
    "print(\"\\n\".join(files))"
   ]
  },
  {
   "cell_type": "code",
   "execution_count": 1,
   "metadata": {},
   "outputs": [
    {
     "name": "stdout",
     "output_type": "stream",
     "text": [
      "Wed Nov 30 17:20:04 2022 python-basic1.py\n",
      "Wed Nov 30 18:08:48 2022 python-basic2.py\n",
      "Sun Dec  4 16:00:50 2022 exercise.ipynb\n",
      "Mon Dec  5 22:19:06 2022 test.py\n"
     ]
    }
   ],
   "source": [
    "#71\n",
    "from stat import S_ISREG, ST_CTIME, ST_MODE\n",
    "import os, sys, time\n",
    "\n",
    "#Relative or absolute path to the directory\n",
    "dir_path = sys.argv[1] if len(sys.argv) == 2 else r'.'\n",
    "\n",
    "#all entries in the directory w/ stats\n",
    "data = (os.path.join(dir_path, fn) for fn in os.listdir(dir_path))\n",
    "data = ((os.stat(path), path) for path in data)\n",
    "\n",
    "# regular files, insert creation date\n",
    "data = ((stat[ST_CTIME], path)\n",
    "           for stat, path in data if S_ISREG(stat[ST_MODE]))\n",
    "\n",
    "for cdate, path in sorted(data):\n",
    "    print(time.ctime(cdate), os.path.basename(path))\n",
    "\t"
   ]
  },
  {
   "cell_type": "code",
   "execution_count": 3,
   "metadata": {},
   "outputs": [
    {
     "name": "stdout",
     "output_type": "stream",
     "text": [
      "Help on built-in module math:\n",
      "\n",
      "NAME\n",
      "    math\n",
      "\n",
      "DESCRIPTION\n",
      "    This module provides access to the mathematical functions\n",
      "    defined by the C standard.\n",
      "\n",
      "FUNCTIONS\n",
      "    acos(x, /)\n",
      "        Return the arc cosine (measured in radians) of x.\n",
      "        \n",
      "        The result is between 0 and pi.\n",
      "    \n",
      "    acosh(x, /)\n",
      "        Return the inverse hyperbolic cosine of x.\n",
      "    \n",
      "    asin(x, /)\n",
      "        Return the arc sine (measured in radians) of x.\n",
      "        \n",
      "        The result is between -pi/2 and pi/2.\n",
      "    \n",
      "    asinh(x, /)\n",
      "        Return the inverse hyperbolic sine of x.\n",
      "    \n",
      "    atan(x, /)\n",
      "        Return the arc tangent (measured in radians) of x.\n",
      "        \n",
      "        The result is between -pi/2 and pi/2.\n",
      "    \n",
      "    atan2(y, x, /)\n",
      "        Return the arc tangent (measured in radians) of y/x.\n",
      "        \n",
      "        Unlike atan(y/x), the signs of both x and y are considered.\n",
      "    \n",
      "    atanh(x, /)\n",
      "        Return the inverse hyperbolic tangent of x.\n",
      "    \n",
      "    ceil(x, /)\n",
      "        Return the ceiling of x as an Integral.\n",
      "        \n",
      "        This is the smallest integer >= x.\n",
      "    \n",
      "    comb(n, k, /)\n",
      "        Number of ways to choose k items from n items without repetition and without order.\n",
      "        \n",
      "        Evaluates to n! / (k! * (n - k)!) when k <= n and evaluates\n",
      "        to zero when k > n.\n",
      "        \n",
      "        Also called the binomial coefficient because it is equivalent\n",
      "        to the coefficient of k-th term in polynomial expansion of the\n",
      "        expression (1 + x)**n.\n",
      "        \n",
      "        Raises TypeError if either of the arguments are not integers.\n",
      "        Raises ValueError if either of the arguments are negative.\n",
      "    \n",
      "    copysign(x, y, /)\n",
      "        Return a float with the magnitude (absolute value) of x but the sign of y.\n",
      "        \n",
      "        On platforms that support signed zeros, copysign(1.0, -0.0)\n",
      "        returns -1.0.\n",
      "    \n",
      "    cos(x, /)\n",
      "        Return the cosine of x (measured in radians).\n",
      "    \n",
      "    cosh(x, /)\n",
      "        Return the hyperbolic cosine of x.\n",
      "    \n",
      "    degrees(x, /)\n",
      "        Convert angle x from radians to degrees.\n",
      "    \n",
      "    dist(p, q, /)\n",
      "        Return the Euclidean distance between two points p and q.\n",
      "        \n",
      "        The points should be specified as sequences (or iterables) of\n",
      "        coordinates.  Both inputs must have the same dimension.\n",
      "        \n",
      "        Roughly equivalent to:\n",
      "            sqrt(sum((px - qx) ** 2.0 for px, qx in zip(p, q)))\n",
      "    \n",
      "    erf(x, /)\n",
      "        Error function at x.\n",
      "    \n",
      "    erfc(x, /)\n",
      "        Complementary error function at x.\n",
      "    \n",
      "    exp(x, /)\n",
      "        Return e raised to the power of x.\n",
      "    \n",
      "    expm1(x, /)\n",
      "        Return exp(x)-1.\n",
      "        \n",
      "        This function avoids the loss of precision involved in the direct evaluation of exp(x)-1 for small x.\n",
      "    \n",
      "    fabs(x, /)\n",
      "        Return the absolute value of the float x.\n",
      "    \n",
      "    factorial(x, /)\n",
      "        Find x!.\n",
      "        \n",
      "        Raise a ValueError if x is negative or non-integral.\n",
      "    \n",
      "    floor(x, /)\n",
      "        Return the floor of x as an Integral.\n",
      "        \n",
      "        This is the largest integer <= x.\n",
      "    \n",
      "    fmod(x, y, /)\n",
      "        Return fmod(x, y), according to platform C.\n",
      "        \n",
      "        x % y may differ.\n",
      "    \n",
      "    frexp(x, /)\n",
      "        Return the mantissa and exponent of x, as pair (m, e).\n",
      "        \n",
      "        m is a float and e is an int, such that x = m * 2.**e.\n",
      "        If x is 0, m and e are both 0.  Else 0.5 <= abs(m) < 1.0.\n",
      "    \n",
      "    fsum(seq, /)\n",
      "        Return an accurate floating point sum of values in the iterable seq.\n",
      "        \n",
      "        Assumes IEEE-754 floating point arithmetic.\n",
      "    \n",
      "    gamma(x, /)\n",
      "        Gamma function at x.\n",
      "    \n",
      "    gcd(*integers)\n",
      "        Greatest Common Divisor.\n",
      "    \n",
      "    hypot(...)\n",
      "        hypot(*coordinates) -> value\n",
      "        \n",
      "        Multidimensional Euclidean distance from the origin to a point.\n",
      "        \n",
      "        Roughly equivalent to:\n",
      "            sqrt(sum(x**2 for x in coordinates))\n",
      "        \n",
      "        For a two dimensional point (x, y), gives the hypotenuse\n",
      "        using the Pythagorean theorem:  sqrt(x*x + y*y).\n",
      "        \n",
      "        For example, the hypotenuse of a 3/4/5 right triangle is:\n",
      "        \n",
      "            >>> hypot(3.0, 4.0)\n",
      "            5.0\n",
      "    \n",
      "    isclose(a, b, *, rel_tol=1e-09, abs_tol=0.0)\n",
      "        Determine whether two floating point numbers are close in value.\n",
      "        \n",
      "          rel_tol\n",
      "            maximum difference for being considered \"close\", relative to the\n",
      "            magnitude of the input values\n",
      "          abs_tol\n",
      "            maximum difference for being considered \"close\", regardless of the\n",
      "            magnitude of the input values\n",
      "        \n",
      "        Return True if a is close in value to b, and False otherwise.\n",
      "        \n",
      "        For the values to be considered close, the difference between them\n",
      "        must be smaller than at least one of the tolerances.\n",
      "        \n",
      "        -inf, inf and NaN behave similarly to the IEEE 754 Standard.  That\n",
      "        is, NaN is not close to anything, even itself.  inf and -inf are\n",
      "        only close to themselves.\n",
      "    \n",
      "    isfinite(x, /)\n",
      "        Return True if x is neither an infinity nor a NaN, and False otherwise.\n",
      "    \n",
      "    isinf(x, /)\n",
      "        Return True if x is a positive or negative infinity, and False otherwise.\n",
      "    \n",
      "    isnan(x, /)\n",
      "        Return True if x is a NaN (not a number), and False otherwise.\n",
      "    \n",
      "    isqrt(n, /)\n",
      "        Return the integer part of the square root of the input.\n",
      "    \n",
      "    lcm(*integers)\n",
      "        Least Common Multiple.\n",
      "    \n",
      "    ldexp(x, i, /)\n",
      "        Return x * (2**i).\n",
      "        \n",
      "        This is essentially the inverse of frexp().\n",
      "    \n",
      "    lgamma(x, /)\n",
      "        Natural logarithm of absolute value of Gamma function at x.\n",
      "    \n",
      "    log(...)\n",
      "        log(x, [base=math.e])\n",
      "        Return the logarithm of x to the given base.\n",
      "        \n",
      "        If the base not specified, returns the natural logarithm (base e) of x.\n",
      "    \n",
      "    log10(x, /)\n",
      "        Return the base 10 logarithm of x.\n",
      "    \n",
      "    log1p(x, /)\n",
      "        Return the natural logarithm of 1+x (base e).\n",
      "        \n",
      "        The result is computed in a way which is accurate for x near zero.\n",
      "    \n",
      "    log2(x, /)\n",
      "        Return the base 2 logarithm of x.\n",
      "    \n",
      "    modf(x, /)\n",
      "        Return the fractional and integer parts of x.\n",
      "        \n",
      "        Both results carry the sign of x and are floats.\n",
      "    \n",
      "    nextafter(x, y, /)\n",
      "        Return the next floating-point value after x towards y.\n",
      "    \n",
      "    perm(n, k=None, /)\n",
      "        Number of ways to choose k items from n items without repetition and with order.\n",
      "        \n",
      "        Evaluates to n! / (n - k)! when k <= n and evaluates\n",
      "        to zero when k > n.\n",
      "        \n",
      "        If k is not specified or is None, then k defaults to n\n",
      "        and the function returns n!.\n",
      "        \n",
      "        Raises TypeError if either of the arguments are not integers.\n",
      "        Raises ValueError if either of the arguments are negative.\n",
      "    \n",
      "    pow(x, y, /)\n",
      "        Return x**y (x to the power of y).\n",
      "    \n",
      "    prod(iterable, /, *, start=1)\n",
      "        Calculate the product of all the elements in the input iterable.\n",
      "        \n",
      "        The default start value for the product is 1.\n",
      "        \n",
      "        When the iterable is empty, return the start value.  This function is\n",
      "        intended specifically for use with numeric values and may reject\n",
      "        non-numeric types.\n",
      "    \n",
      "    radians(x, /)\n",
      "        Convert angle x from degrees to radians.\n",
      "    \n",
      "    remainder(x, y, /)\n",
      "        Difference between x and the closest integer multiple of y.\n",
      "        \n",
      "        Return x - n*y where n*y is the closest integer multiple of y.\n",
      "        In the case where x is exactly halfway between two multiples of\n",
      "        y, the nearest even value of n is used. The result is always exact.\n",
      "    \n",
      "    sin(x, /)\n",
      "        Return the sine of x (measured in radians).\n",
      "    \n",
      "    sinh(x, /)\n",
      "        Return the hyperbolic sine of x.\n",
      "    \n",
      "    sqrt(x, /)\n",
      "        Return the square root of x.\n",
      "    \n",
      "    tan(x, /)\n",
      "        Return the tangent of x (measured in radians).\n",
      "    \n",
      "    tanh(x, /)\n",
      "        Return the hyperbolic tangent of x.\n",
      "    \n",
      "    trunc(x, /)\n",
      "        Truncates the Real x to the nearest Integral toward 0.\n",
      "        \n",
      "        Uses the __trunc__ magic method.\n",
      "    \n",
      "    ulp(x, /)\n",
      "        Return the value of the least significant bit of the float x.\n",
      "\n",
      "DATA\n",
      "    e = 2.718281828459045\n",
      "    inf = inf\n",
      "    nan = nan\n",
      "    pi = 3.141592653589793\n",
      "    tau = 6.283185307179586\n",
      "\n",
      "FILE\n",
      "    (built-in)\n",
      "\n",
      "\n"
     ]
    }
   ],
   "source": [
    "#72\n",
    "import math\n",
    "help(math)"
   ]
  },
  {
   "cell_type": "code",
   "execution_count": 12,
   "metadata": {},
   "outputs": [
    {
     "name": "stdout",
     "output_type": "stream",
     "text": [
      "mid-line point is [0.5, 0.0]\n",
      "mid-line point is [1.5, 0.5]\n",
      "mid-line point is [-0.5, 1.5]\n",
      "mid-line point is [-3.5, -1.5]\n"
     ]
    }
   ],
   "source": [
    "#73\n",
    "def mid_line(point1 = (1,0), point2= (0,0)):\n",
    "    midPoint = []\n",
    "    for i in range(2):\n",
    "        maxPoint = max(point1[i], point2[i])\n",
    "        minPoint = min(point1[i], point2[i])\n",
    "        if maxPoint <= 0 and minPoint <= 0:\n",
    "            midPoint.append((minPoint-maxPoint)/2)\n",
    "        else:\n",
    "            midPoint.append((maxPoint-minPoint)/2)\n",
    "    return f'mid-line point is {midPoint}'\n",
    "print(mid_line((1,0), (0,0)))\n",
    "print(mid_line((3,1), (0,0)))\n",
    "print(mid_line((0,0), (-1,3)))\n",
    "print(mid_line((-3,-2), (-10,-5)))"
   ]
  },
  {
   "cell_type": "code",
   "execution_count": 1,
   "metadata": {},
   "outputs": [
    {
     "name": "stdout",
     "output_type": "stream",
     "text": [
      "-1720616255382783297\n",
      "-3228444149296660765\n"
     ]
    }
   ],
   "source": [
    "#74\n",
    "def hashWord(word):\n",
    "    return hash(word)\n",
    "print(hashWord('hi'))\n",
    "print(hashWord('my name is Tanisa124'))"
   ]
  },
  {
   "cell_type": "code",
   "execution_count": 1,
   "metadata": {},
   "outputs": [
    {
     "name": "stdout",
     "output_type": "stream",
     "text": [
      "\n",
      "Python Copyright Information\n",
      "Copyright (c) 2001-2021 Python Software Foundation.\n",
      "All Rights Reserved.\n",
      "\n",
      "Copyright (c) 2000 BeOpen.com.\n",
      "All Rights Reserved.\n",
      "\n",
      "Copyright (c) 1995-2001 Corporation for National Research Initiatives.\n",
      "All Rights Reserved.\n",
      "\n",
      "Copyright (c) 1991-1995 Stichting Mathematisch Centrum, Amsterdam.\n",
      "All Rights Reserved.\n",
      "\n"
     ]
    }
   ],
   "source": [
    "#75\n",
    "import sys\n",
    "print(\"\\nPython Copyright Information\")\n",
    "print(sys.copyright)\n",
    "print()"
   ]
  },
  {
   "cell_type": "code",
   "execution_count": null,
   "metadata": {},
   "outputs": [],
   "source": [
    "#76\n",
    "import sys\n",
    "print(\"This is the name/path of the script:\"),sys.argv[0]\n",
    "print(\"Number of arguments:\",len(sys.argv))\n",
    "print(\"Argument List:\",str(sys.argv))\n"
   ]
  },
  {
   "cell_type": "code",
   "execution_count": 4,
   "metadata": {},
   "outputs": [
    {
     "name": "stdout",
     "output_type": "stream",
     "text": [
      "Little-endian platform.\n"
     ]
    }
   ],
   "source": [
    "#77\n",
    "import sys\n",
    "if sys.byteorder == \"little\":\n",
    "    #intel, alpha\n",
    "    print(\"Little-endian platform.\")\n",
    "else:\n",
    "    #motorola, sparc\n",
    "    print(\"Big-endian platform.\")\n"
   ]
  },
  {
   "cell_type": "code",
   "execution_count": 5,
   "metadata": {},
   "outputs": [
    {
     "name": "stdout",
     "output_type": "stream",
     "text": [
      "_abc, _ast, _bisect, _blake2, _codecs, _codecs_cn, _codecs_hk,\n",
      "_codecs_iso2022, _codecs_jp, _codecs_kr, _codecs_tw, _collections,\n",
      "_contextvars, _csv, _datetime, _functools, _heapq, _imp, _io, _json,\n",
      "_locale, _lsprof, _md5, _multibytecodec, _opcode, _operator,\n",
      "_peg_parser, _pickle, _random, _sha1, _sha256, _sha3, _sha512,\n",
      "_signal, _sre, _stat, _statistics, _string, _struct, _symtable,\n",
      "_thread, _tracemalloc, _warnings, _weakref, _winapi,\n",
      "_xxsubinterpreters, array, atexit, audioop, binascii, builtins, cmath,\n",
      "errno, faulthandler, gc, itertools, marshal, math, mmap, msvcrt, nt,\n",
      "parser, sys, time, winreg, xxsubtype, zlib\n"
     ]
    }
   ],
   "source": [
    "#78\n",
    "import sys\n",
    "import textwrap\n",
    "module_name = ', '.join(sorted(sys.builtin_module_names))\n",
    "print(textwrap.fill(module_name, width=70))"
   ]
  },
  {
   "cell_type": "code",
   "execution_count": 4,
   "metadata": {},
   "outputs": [
    {
     "name": "stdout",
     "output_type": "stream",
     "text": [
      "Size of one = 52 bytes\n",
      "Size of four = 53 bytes\n",
      "Size of three = 54 bytes\n",
      "Size of 0 = 24 bytes\n",
      "Size of 112 = 28 bytes\n",
      "Size of 122.56 = 24 bytes\n",
      "Size of [1, 2, 3, 'Red', 'Black'] = 120 bytes\n",
      "Size of ('Red', [8, 4, 6], (1, 2, 3)) = 64 bytes\n",
      "Size of {'orange', 'apple', 'pear'} = 216 bytes\n",
      "Size of {'Name': 'David', 'Age': 6, 'Class': 'First'} = 232 bytes\n"
     ]
    }
   ],
   "source": [
    "#79\n",
    "import sys\n",
    "str1 = \"one\"; str2 = \"four\"; str3 = \"three\"\n",
    "x = 0; y = 112; z = 122.56\n",
    "def printObj(param):\n",
    "    return print(f'Size of {param} = {str(sys.getsizeof(param))} bytes')\n",
    "printObj(str1)\n",
    "printObj(str2)\n",
    "printObj(str3)\n",
    "printObj(x)\n",
    "printObj(y)\n",
    "printObj(z)\n",
    "L = [1, 2, 3, 'Red', 'Black']\n",
    "T = (\"Red\", [8, 4, 6], (1, 2, 3))\n",
    "S = {'apple', 'orange', 'apple', 'pear'}\n",
    "D = {'Name': 'David', 'Age': 6, 'Class': 'First'}\n",
    "printObj(L)\n",
    "printObj(T)\n",
    "printObj(S)\n",
    "printObj(D)\n"
   ]
  },
  {
   "cell_type": "code",
   "execution_count": 5,
   "metadata": {},
   "outputs": [
    {
     "name": "stdout",
     "output_type": "stream",
     "text": [
      "value of recursion limit = 3000\n"
     ]
    }
   ],
   "source": [
    "#80\n",
    "import sys\n",
    "print(f'value of recursion limit = {sys.getrecursionlimit()}')"
   ]
  },
  {
   "cell_type": "code",
   "execution_count": 3,
   "metadata": {},
   "outputs": [
    {
     "name": "stdout",
     "output_type": "stream",
     "text": [
      "concatenate = Red-White-Black\n"
     ]
    }
   ],
   "source": [
    "#81\n",
    "def concatenate(listString):\n",
    "    conc = ('-').join(listString)\n",
    "    return f'concatenate = {conc}'\n",
    "print(concatenate(['Red', 'White', 'Black'] ))"
   ]
  },
  {
   "cell_type": "code",
   "execution_count": 9,
   "metadata": {},
   "outputs": [
    {
     "name": "stdout",
     "output_type": "stream",
     "text": [
      "15\n",
      "20\n",
      "25\n",
      "30\n"
     ]
    }
   ],
   "source": [
    "#82\n",
    "def allSum(container):\n",
    "    if type(container) == dict:\n",
    "        return sum(container.values())\n",
    "    return sum(container)\n",
    "print(allSum([1,2,3,4,5]))\n",
    "print(allSum((2,3,4,5,6)))\n",
    "print(allSum({3,4,5,6,7}))\n",
    "print(allSum({1:4, 2:5, 3:6, 4:7, 5:8}))"
   ]
  },
  {
   "cell_type": "code",
   "execution_count": 12,
   "metadata": {},
   "outputs": [
    {
     "name": "stdout",
     "output_type": "stream",
     "text": [
      "[1, 2, 3, 4, 5] all member greater than 0\n",
      "[1, 2, 3, 4, 5] all member greater than -1\n",
      "[1, 2, 3, 4, 5] member not greater than 1\n"
     ]
    }
   ],
   "source": [
    "#83\n",
    "def greaterAll(list, numMax):\n",
    "    if min(list) <= numMax:\n",
    "        return f'{list} member not greater than {numMax}'\n",
    "    return f'{list} all member greater than {numMax}'\n",
    "print(greaterAll([1,2,3,4,5], 0))\n",
    "print(greaterAll([1,2,3,4,5], -1))\n",
    "print(greaterAll([1,2,3,4,5], 1))"
   ]
  },
  {
   "cell_type": "code",
   "execution_count": 14,
   "metadata": {},
   "outputs": [
    {
     "name": "stdout",
     "output_type": "stream",
     "text": [
      "In This is a test string have i = 3\n",
      "In This is a test string have s = 4\n",
      "In This is a test string have a = 1\n"
     ]
    }
   ],
   "source": [
    "#84\n",
    "def specificString(string, specific):\n",
    "    count = 0\n",
    "    for i in string:\n",
    "        if i == specific:\n",
    "            count += 1\n",
    "    return f'In {string} have {specific} = {count}'\n",
    "print(specificString(string='This is a test string', specific='i'))\n",
    "print(specificString(string='This is a test string', specific='s'))\n",
    "print(specificString(string='This is a test string', specific='a'))\n"
   ]
  },
  {
   "cell_type": "code",
   "execution_count": null,
   "metadata": {},
   "outputs": [],
   "source": [
    "#85\n",
    "import os  \n",
    "path=\"abc.txt\"  \n",
    "if os.path.isdir(path):  \n",
    "    print(\"\\nIt is a directory\")  \n",
    "elif os.path.isfile(path):  \n",
    "    print(\"\\nIt is a normal file\")  \n",
    "else:  \n",
    "    print(\"It is a special file (socket, FIFO, device file)\" )\n",
    "print()"
   ]
  },
  {
   "cell_type": "code",
   "execution_count": 1,
   "metadata": {},
   "outputs": [
    {
     "name": "stdout",
     "output_type": "stream",
     "text": [
      "\n",
      "97\n",
      "65\n",
      "49\n",
      "64\n",
      "\n"
     ]
    }
   ],
   "source": [
    "#86\n",
    "print()\n",
    "print(ord('a'))\n",
    "print(ord('A'))\n",
    "print(ord('1'))\n",
    "print(ord('@'))\n",
    "print()\n"
   ]
  },
  {
   "cell_type": "code",
   "execution_count": 7,
   "metadata": {},
   "outputs": [
    {
     "name": "stdout",
     "output_type": "stream",
     "text": [
      "The size of exercise.ipynb is 64473 Bytes\n"
     ]
    }
   ],
   "source": [
    "#87\n",
    "import os\n",
    "fileName = './exercise.ipynb'\n",
    "fileSize = os.stat(fileName)\n",
    "print(f'The size of {fileName[2:]} is {fileSize.st_size} Bytes')\n"
   ]
  },
  {
   "cell_type": "code",
   "execution_count": 8,
   "metadata": {},
   "outputs": [
    {
     "name": "stdout",
     "output_type": "stream",
     "text": [
      "30 + 20 = 50\n",
      "-20 + 30 = 10\n",
      "0 + 0 = 0\n"
     ]
    }
   ],
   "source": [
    "#88\n",
    "def calSum(num1, num2):\n",
    "    return f'{num1} + {num2} = {num1+num2}'\n",
    "print(calSum(30,20))\n",
    "print(calSum(-20,30))\n",
    "print(calSum(0,0))\n"
   ]
  },
  {
   "cell_type": "code",
   "execution_count": 9,
   "metadata": {},
   "outputs": [
    {
     "name": "stdout",
     "output_type": "stream",
     "text": [
      "First day of a Month!\n",
      "First day of a Month!\n",
      "None\n"
     ]
    }
   ],
   "source": [
    "#89\n",
    "def firstDay(day):\n",
    "    if day == 1 or day == '1':\n",
    "        return 'First day of a Month!'\n",
    "print(firstDay(1))\n",
    "print(firstDay('1'))\n",
    "print(firstDay(123))"
   ]
  },
  {
   "cell_type": "code",
   "execution_count": 10,
   "metadata": {},
   "outputs": [],
   "source": [
    "#90\n",
    "def file_copy(src, dest):\n",
    "    with open(src) as f, open(dest, 'w') as d:\n",
    "        d.write(f.read())\n",
    "        file_copy(\"untitled0.py\", \"z.py\")\n",
    "        with open('z.py', 'r') as filehandle:\n",
    "            for line in filehandle:\n",
    "                print(line, end = '')\n"
   ]
  },
  {
   "cell_type": "code",
   "execution_count": null,
   "metadata": {},
   "outputs": [],
   "source": [
    "#91\n",
    "def swap2(var1, var2):\n",
    "    swap = var1\n",
    "    var1 = var2\n",
    "    var2 = swap\n",
    "    return f'var1 = {var1}, var2 = {var2}'\n",
    "x = 5\n",
    "y = 10\n",
    "print(swap2(x,y))"
   ]
  },
  {
   "cell_type": "code",
   "execution_count": 12,
   "metadata": {},
   "outputs": [
    {
     "name": "stdout",
     "output_type": "stream",
     "text": [
      "\n",
      "\\#{'}${\"}@/\n",
      "\\#{'}${\"}@/\n",
      "\\#{'}${\"}@/\n",
      "\\#{'}${\"}@/\n",
      "\\#{'}${\"}@/\n",
      "\\#{'}${\"}@/\n",
      "\n"
     ]
    }
   ],
   "source": [
    "#92\n",
    "print()\n",
    "print(\"\\#{'}${\\\"}@/\")\n",
    "print(\"\\#{'}${\"'\"'\"}@/\")\n",
    "print(r\"\"\"\\#{'}${\"}@/\"\"\")\n",
    "print('\\#{\\'}${\"}@/')\n",
    "print('\\#{'\"'\"'}${\"}@/')\n",
    "print(r'''\\#{'}${\"}@/''')\n",
    "print()"
   ]
  },
  {
   "cell_type": "code",
   "execution_count": 14,
   "metadata": {},
   "outputs": [
    {
     "name": "stdout",
     "output_type": "stream",
     "text": [
      "Identity = 5\n",
      "Type = <class 'int'>\n",
      "Value = 2821252213168\n",
      "Identity = 10\n",
      "Type = <class 'str'>\n",
      "Value = 2821292952816\n"
     ]
    }
   ],
   "source": [
    "#93\n",
    "def ITV(var):\n",
    "    return f'Identity = {var}\\nType = {type(var)}\\nValue = {id(var)}'\n",
    "x = 5; y = '10'\n",
    "print(ITV(x))\n",
    "print(ITV(y))"
   ]
  },
  {
   "cell_type": "code",
   "execution_count": 18,
   "metadata": {},
   "outputs": [
    {
     "name": "stdout",
     "output_type": "stream",
     "text": [
      "[84, 104, 97, 101, 110]\n"
     ]
    }
   ],
   "source": [
    "#94\n",
    "def listB(byte):\n",
    "    return list(byte)\n",
    "x = b'Thaen'\n",
    "print(listB(x))"
   ]
  },
  {
   "cell_type": "code",
   "execution_count": 27,
   "metadata": {},
   "outputs": [
    {
     "name": "stdout",
     "output_type": "stream",
     "text": [
      "123 is numeric\n",
      "123Abc is not numeric\n",
      "11ll is not numeric\n",
      "empty string  is not a numeric\n",
      "78.24 is numeric\n",
      "........ is not numeric\n"
     ]
    }
   ],
   "source": [
    "#95\n",
    "def checkNum(string):\n",
    "    if string == '':\n",
    "        return f'empty string {string} is not a numeric'\n",
    "    if '.' in string:\n",
    "        count = 0\n",
    "        for i in string:\n",
    "            if i == '.':\n",
    "                count += 1\n",
    "            if count > 1:\n",
    "                return f'{string} is not numeric'\n",
    "    for i in string:\n",
    "        if i not in '.0123456789':\n",
    "            return f'{string} is not numeric'\n",
    "    return f'{string} is numeric'\n",
    "\n",
    "print(checkNum('123'))\n",
    "print(checkNum('123Abc'))\n",
    "print(checkNum('11ll'))\n",
    "print(checkNum(''))\n",
    "print(checkNum('78.24'))\n",
    "print(checkNum('........'))"
   ]
  },
  {
   "cell_type": "code",
   "execution_count": null,
   "metadata": {},
   "outputs": [],
   "source": [
    "#96\n",
    "import traceback\n",
    "def f1():\n",
    "    return abc()\n",
    "def abc():\n",
    "    traceback.print_stack()\n",
    "f1()"
   ]
  },
  {
   "cell_type": "code",
   "execution_count": 3,
   "metadata": {},
   "outputs": [
    {
     "name": "stdout",
     "output_type": "stream",
     "text": [
      "ArithmeticError AssertionError AttributeError BaseException BlockingIOError BrokenPipeError BufferError BytesWarning\n",
      "ChildProcessError ConnectionAbortedError ConnectionError ConnectionRefusedError ConnectionResetError DeprecationWarning EOFError Ellipsis\n",
      "EnvironmentError Exception False FileExistsError FileNotFoundError FloatingPointError FutureWarning GeneratorExit\n",
      "IOError ImportError ImportWarning In IndentationError IndexError InterruptedError IsADirectoryError\n",
      "KeyError KeyboardInterrupt LookupError MemoryError ModuleNotFoundError NameError None NotADirectoryError\n",
      "NotImplemented NotImplementedError OSError Out OverflowError PendingDeprecationWarning PermissionError ProcessLookupError\n",
      "RecursionError ReferenceError ResourceWarning RuntimeError RuntimeWarning StopAsyncIteration StopIteration SyntaxError\n",
      "SyntaxWarning SystemError SystemExit TabError TimeoutError True TypeError UnboundLocalError\n",
      "UnicodeDecodeError UnicodeEncodeError UnicodeError UnicodeTranslateError UnicodeWarning UserWarning ValueError Warning\n",
      "WindowsError ZeroDivisionError __ __IPYTHON__ ___ __build_class__ __builtin__ __builtins__\n",
      "__debug__ __doc__ __import__ __loader__ __name__ __package__ __spec__ __vsc_ipynb_file__\n",
      "_dh _i _i1 _i2 _i3 _ih _ii _iii\n",
      "_oh abc abs all any ascii bin bool\n",
      "breakpoint bytearray bytes callable chr classmethod compile complex\n",
      "copyright credits delattr dict dir display divmod enumerate\n",
      "eval exec execfile exit f1 filter float format\n",
      "frozenset get_ipython getattr globals hasattr hash help hex\n",
      "id input int isinstance issubclass iter len license\n",
      "list locals map max memoryview min next object\n",
      "oct open ord os pow print property quit\n",
      "range repr reversed round runfile set setattr slice\n",
      "sorted staticmethod str sum super sys traceback tuple\n",
      "type vars zip\n"
     ]
    }
   ],
   "source": [
    "#97\n",
    "s_var_names = sorted((set(globals().keys()) | set(__builtins__.__dict__.keys())) - set('_ names i'.split()))\n",
    "print( '\\n'.join(' '.join(s_var_names[i:i+8]) for i in range(0, len(s_var_names), 8)) )"
   ]
  },
  {
   "cell_type": "code",
   "execution_count": 9,
   "metadata": {},
   "outputs": [
    {
     "name": "stdout",
     "output_type": "stream",
     "text": [
      "1671035579.939709\n"
     ]
    }
   ],
   "source": [
    "#98\n",
    "import time\n",
    "print(time.time())"
   ]
  },
  {
   "cell_type": "code",
   "execution_count": 10,
   "metadata": {},
   "outputs": [
    {
     "data": {
      "text/plain": [
       "1"
      ]
     },
     "execution_count": 10,
     "metadata": {},
     "output_type": "execute_result"
    }
   ],
   "source": [
    "#99\n",
    "import os\n",
    "import time\n",
    "# for windows\n",
    "# os.system('cls')\n",
    "os.system(\"ls\")\n",
    "time.sleep(2)\n",
    "# Ubuntu version 10.10\n",
    "os.system('clear')"
   ]
  },
  {
   "cell_type": "code",
   "execution_count": null,
   "metadata": {},
   "outputs": [],
   "source": [
    "#100\n",
    "import socket\n",
    "host_name = socket.gethostname()\n",
    "print(\"Host name:\", host_name)"
   ]
  },
  {
   "cell_type": "code",
   "execution_count": 1,
   "metadata": {},
   "outputs": [
    {
     "name": "stdout",
     "output_type": "stream",
     "text": [
      "b'<!doctype html>\\n<html>\\n<head>\\n    <title>Example Domain</title>\\n\\n    <meta charset=\"utf-8\" />\\n    <meta http-equiv=\"Content-type\" content=\"text/html; charset=utf-8\" />\\n    <meta name=\"viewport\" content=\"width=device-width, initial-scale=1\" />\\n    <style type=\"text/css\">\\n    body {\\n        background-color: #f0f0f2;\\n        margin: 0;\\n        padding: 0;\\n        font-family: -apple-system, system-ui, BlinkMacSystemFont, \"Segoe UI\", \"Open Sans\", \"Helvetica Neue\", Helvetica, Arial, sans-serif;\\n        \\n    }\\n    div {\\n        width: 600px;\\n        margin: 5em auto;\\n        padding: 2em;\\n        background-color: #fdfdff;\\n        border-radius: 0.5em;\\n        box-shadow: 2px 3px 7px 2px rgba(0,0,0,0.02);\\n    }\\n    a:link, a:visited {\\n        color: #38488f;\\n        text-decoration: none;\\n    }\\n    @media (max-width: 700px) {\\n        div {\\n            margin: 0 auto;\\n            width: auto;\\n        }\\n    }\\n    </style>    \\n</head>\\n\\n<body>\\n<div>\\n    <h1>Example Domain</h1>\\n    <p>This domain is for use in illustrative examples in documents. You may use this\\n    domain in literature without prior coordination or asking for permission.</p>\\n    <p><a href=\"https://www.iana.org/domains/example\">More information...</a></p>\\n</div>\\n</body>\\n</html>\\n'\n"
     ]
    }
   ],
   "source": [
    "#101\n",
    "from http.client import HTTPConnection\n",
    "conn = HTTPConnection(\"example.com\")\n",
    "conn.request(\"GET\", \"/\")  \n",
    "result = conn.getresponse()\n",
    "# retrieves the entire contents.  \n",
    "contents = result.read() \n",
    "print(contents)\n"
   ]
  },
  {
   "cell_type": "code",
   "execution_count": null,
   "metadata": {},
   "outputs": [],
   "source": [
    "#102\n",
    "import subprocess\n",
    "# file and directory listing\n",
    "returned_text = subprocess.check_output(\"dir\", shell=True, universal_newlines=True)\n",
    "print(\"dir command to list file and directory\")\n",
    "print(returned_text)\n"
   ]
  },
  {
   "cell_type": "code",
   "execution_count": 3,
   "metadata": {},
   "outputs": [
    {
     "name": "stdout",
     "output_type": "stream",
     "text": [
      "exercise.ipynb\n"
     ]
    }
   ],
   "source": [
    "#103\n",
    "import os\n",
    "print(os.path.basename('./exercise.ipynb'))"
   ]
  },
  {
   "cell_type": "code",
   "execution_count": null,
   "metadata": {},
   "outputs": [],
   "source": [
    "#104\n",
    "import os\n",
    "print(\"\\nEffective group id: \",os.getegid())\n",
    "print(\"Effective user id: \",os.geteuid())\n",
    "print(\"Real group id: \",os.getgid())\n",
    "print(\"List of supplemental group ids: \",os.getgroups())"
   ]
  },
  {
   "cell_type": "code",
   "execution_count": null,
   "metadata": {},
   "outputs": [],
   "source": [
    "#105\n",
    "import os\n",
    "print(os.environ)"
   ]
  },
  {
   "cell_type": "code",
   "execution_count": null,
   "metadata": {},
   "outputs": [],
   "source": [
    "#106\n",
    "import os.path\n",
    "for path in [ 'test.txt', 'filename', '/user/system/test.txt', '/', '' ]:\n",
    "    print('\"%s\" :' % path, os.path.splitext(path))\n",
    "\t"
   ]
  },
  {
   "cell_type": "code",
   "execution_count": 4,
   "metadata": {},
   "outputs": [
    {
     "name": "stdout",
     "output_type": "stream",
     "text": [
      "File         : ./exercise.ipynb\n",
      "Access time  : Fri Dec 16 22:40:42 2022\n",
      "Modified time: Fri Dec 16 22:40:42 2022\n",
      "Change time  : Wed Dec 14 23:30:58 2022\n",
      "Size         : 79304\n"
     ]
    }
   ],
   "source": [
    "#107\n",
    "import os.path\n",
    "import time\n",
    "file = './exercise.ipynb'\n",
    "print('File         :', file)\n",
    "print('Access time  :', time.ctime(os.path.getatime(file)))\n",
    "print('Modified time:', time.ctime(os.path.getmtime(file)))\n",
    "print('Change time  :', time.ctime(os.path.getctime(file)))\n",
    "print('Size         :', os.path.getsize(file))"
   ]
  },
  {
   "cell_type": "code",
   "execution_count": null,
   "metadata": {},
   "outputs": [],
   "source": [
    "#108\n",
    "import os.path\n",
    "file = './exercise.ipynb'\n",
    "for files in [ file, os.path.dirname(file), '/', './broken_link']:\n",
    "    print('files        :', files)\n",
    "    print('Absolute    :', os.path.isabs(files))\n",
    "    print('Is files?    :', os.path.isfiles(files))\n",
    "    print('Is Dir?     :', os.path.isdir(files))\n",
    "    print('Is Link?    :', os.path.islink(files))\n",
    "    print('Exists?     :', os.path.exists(files))\n",
    "    print('Link Exists?:', os.path.lexists(files))\n",
    "\t"
   ]
  },
  {
   "cell_type": "code",
   "execution_count": 1,
   "metadata": {},
   "outputs": [
    {
     "name": "stdout",
     "output_type": "stream",
     "text": [
      "2 is positive\n",
      "-5 is negative\n",
      "0 is zero\n"
     ]
    }
   ],
   "source": [
    "#109\n",
    "def numCheck(num):\n",
    "    if num < 0:\n",
    "        return f'{num} is negative'\n",
    "    elif num > 0:\n",
    "        return f'{num} is positive'\n",
    "    else:\n",
    "        return f'{num} is zero'\n",
    "print(numCheck(2))\n",
    "print(numCheck(-5))\n",
    "print(numCheck(0))\n"
   ]
  },
  {
   "cell_type": "code",
   "execution_count": 7,
   "metadata": {},
   "outputs": [
    {
     "name": "stdout",
     "output_type": "stream",
     "text": [
      "Numbers divisible by 15 are [45, 60, 105]\n"
     ]
    }
   ],
   "source": [
    "#110\n",
    "def fifteenDivide(list):\n",
    "    ans = []\n",
    "    for i in list:\n",
    "        if i % 15 == 0:\n",
    "            ans.append(i)\n",
    "    return f'Numbers divisible by 15 are {ans}'\n",
    "num_list = [45, 55, 60, 37, 100, 105, 220]\n",
    "print(fifteenDivide(num_list))"
   ]
  },
  {
   "cell_type": "code",
   "execution_count": 10,
   "metadata": {},
   "outputs": [
    {
     "name": "stdout",
     "output_type": "stream",
     "text": [
      "['exercise.ipynb', 'python-basic1.py', 'python-basic2.py', 'test.py']\n",
      "['python-basic1.py', 'python-basic2.py', 'test.py']\n",
      "[]\n"
     ]
    }
   ],
   "source": [
    "#111\n",
    "import glob\n",
    "file_list = glob.glob('*.*')\n",
    "print(file_list)\n",
    "#Specific files\n",
    "print(glob.glob('*.py'))\n",
    "print(glob.glob('./[0-9].*'))\n"
   ]
  },
  {
   "cell_type": "code",
   "execution_count": 11,
   "metadata": {},
   "outputs": [
    {
     "name": "stdout",
     "output_type": "stream",
     "text": [
      "[2, 3, 4, 5]\n",
      "['2', '3', '5', '6']\n",
      "['b', 'c', 'd']\n"
     ]
    }
   ],
   "source": [
    "#112\n",
    "def removeFirst(list):\n",
    "    return list[1:]\n",
    "print(removeFirst([1,2,3,4,5]))\n",
    "print(removeFirst(['1','2','3','5','6']))\n",
    "print(removeFirst(['a','b','c','d']))"
   ]
  },
  {
   "cell_type": "code",
   "execution_count": 13,
   "metadata": {},
   "outputs": [
    {
     "name": "stdout",
     "output_type": "stream",
     "text": [
      "2 is interger\n",
      "2 is not integer but it is <class 'str'>\n",
      "-9 is interger\n",
      " is not integer but it is <class 'str'>\n"
     ]
    }
   ],
   "source": [
    "#113\n",
    "def checkNum(any):\n",
    "    if type(any) != int:\n",
    "        return f'{any} is not integer but it is {type(any)}'\n",
    "    return f'{any} is interger'\n",
    "print(checkNum(2))\n",
    "print(checkNum('2'))\n",
    "print(checkNum(-9))\n",
    "print(checkNum(''))"
   ]
  },
  {
   "cell_type": "code",
   "execution_count": 1,
   "metadata": {},
   "outputs": [
    {
     "name": "stdout",
     "output_type": "stream",
     "text": [
      "Positive number of list [0, 1, 2, 3, 4, 5, -1, -2, -3, -4, -5, '1', '2', '', 'abc'] are [1, 2, 3, 4, 5]\n"
     ]
    }
   ],
   "source": [
    "#114\n",
    "def checkPositive(list):\n",
    "    ans = []\n",
    "    for i in list:\n",
    "        if type(i) == int:\n",
    "            if i > 0:\n",
    "                ans.append(i)\n",
    "    return f'Positive number of list {list} are {ans}'\n",
    "print(checkPositive([0,1,2,3,4,5,-1,-2,-3,-4,-5,'1','2','','abc']))\n",
    "        "
   ]
  },
  {
   "cell_type": "code",
   "execution_count": 17,
   "metadata": {},
   "outputs": [
    {
     "name": "stdout",
     "output_type": "stream",
     "text": [
      "sum of list [1, 2, 3, 4, 5] = 15\n",
      "sum of list [6, 7, 8, 9, 10] = 40\n"
     ]
    }
   ],
   "source": [
    "#115\n",
    "def listSum(list):\n",
    "    return f'sum of list {list} = {sum(list)}'\n",
    "print(listSum([1,2,3,4,5]))\n",
    "print(listSum([6,7,8,9,10]))"
   ]
  },
  {
   "cell_type": "code",
   "execution_count": 5,
   "metadata": {},
   "outputs": [
    {
     "name": "stdout",
     "output_type": "stream",
     "text": [
      "b'abcdefg \\xc3\\x83\\xc2\\xb1'\n",
      "b'12345678 \\xc6\\x8e'\n"
     ]
    }
   ],
   "source": [
    "#116\n",
    "def unicode(string):\n",
    "    return string.encode('utf-8')\n",
    "print(unicode('abcdefg \\xc3\\xb1'))\n",
    "print(unicode('12345678 \\u018e'))"
   ]
  },
  {
   "cell_type": "code",
   "execution_count": null,
   "metadata": {},
   "outputs": [],
   "source": [
    "#117\n",
    "'''Prove that same string value do not have same memory location'''\n",
    "a = 'Hi I am Thaen'\n",
    "testA = 'Hi I am Thaen'\n",
    "print(hex(id(a)))\n",
    "print(hex(id(testA)))"
   ]
  },
  {
   "cell_type": "code",
   "execution_count": 10,
   "metadata": {},
   "outputs": [
    {
     "name": "stdout",
     "output_type": "stream",
     "text": [
      "[b'\\x00\\x01', b'\\x00\\x02', b'\\x00\\x03', b'\\x00\\x04', b'\\x00\\x05']\n"
     ]
    }
   ],
   "source": [
    "#118\n",
    "def num2byte(list):\n",
    "    for i in range(len(list)):\n",
    "        list[i] = list[i].to_bytes(2, 'big')\n",
    "    return list\n",
    "print(num2byte([1,2,3,4,5]))"
   ]
  },
  {
   "cell_type": "code",
   "execution_count": 13,
   "metadata": {},
   "outputs": [
    {
     "name": "stdout",
     "output_type": "stream",
     "text": [
      "12\n",
      "13\n"
     ]
    }
   ],
   "source": [
    "#119\n",
    "def roundNum(float):\n",
    "    return round(float)\n",
    "print(roundNum(12.34))\n",
    "print(roundNum(12.66))"
   ]
  },
  {
   "cell_type": "code",
   "execution_count": 21,
   "metadata": {},
   "outputs": [
    {
     "name": "stdout",
     "output_type": "stream",
     "text": [
      "1234 \n",
      "1234567 \n",
      "12345678910\n"
     ]
    }
   ],
   "source": [
    "#120\n",
    "def threePart(string):\n",
    "    size = len(string)\n",
    "    return f'{string[:round(size*(1/3))]} \\n{string[:round(size*(2/3))]} \\n{string}'\n",
    "print(threePart('12345678910'))"
   ]
  },
  {
   "cell_type": "code",
   "execution_count": 19,
   "metadata": {},
   "outputs": [
    {
     "name": "stdout",
     "output_type": "stream",
     "text": [
      "5 is define variable: type <class 'int'>\n",
      "abc is define variable: type <class 'str'>\n",
      "123.12 is define variable: type <class 'float'>\n",
      "{1: 2} is define variable: type <class 'dict'>\n"
     ]
    }
   ],
   "source": [
    "#121\n",
    "def isvariable(var):\n",
    "    if isinstance(var, (int, str, float, list, dict, set, tuple)):\n",
    "        return f'{var} is define variable: type {type(var)}'\n",
    "x=5\n",
    "print(isvariable(x))\n",
    "x='abc'\n",
    "print(isvariable(x))\n",
    "x=123.12\n",
    "print(isvariable(x))\n",
    "x = {1:2}\n",
    "print(isvariable(x))"
   ]
  },
  {
   "cell_type": "code",
   "execution_count": 12,
   "metadata": {},
   "outputs": [
    {
     "name": "stdout",
     "output_type": "stream",
     "text": [
      "0\n",
      "{}\n",
      "[]\n",
      "()\n"
     ]
    }
   ],
   "source": [
    "#122\n",
    "def empty(var):\n",
    "    return type(var)()\n",
    "a = 5\n",
    "b = {1:299}\n",
    "c = ['a','b','c']\n",
    "d = (a, b, c)\n",
    "print(empty(a))\n",
    "print(empty(b))\n",
    "print(empty(c))\n",
    "print(empty(d))"
   ]
  },
  {
   "cell_type": "code",
   "execution_count": 14,
   "metadata": {},
   "outputs": [
    {
     "name": "stdout",
     "output_type": "stream",
     "text": [
      "Float value information:  sys.float_info(max=1.7976931348623157e+308, max_exp=1024, max_10_exp=308, min=2.2250738585072014e-308, min_exp=-1021, min_10_exp=-307, dig=15, mant_dig=53, epsilon=2.220446049250313e-16, radix=2, rounds=1) \n",
      "\n",
      "Integer value information:  sys.int_info(bits_per_digit=30, sizeof_digit=4) \n",
      "\n",
      "Maximum size of an integer:  9223372036854775807\n"
     ]
    }
   ],
   "source": [
    "#123\n",
    "import sys\n",
    "print(\"Float value information: \",sys.float_info, '\\n')\n",
    "print(\"Integer value information: \",sys.int_info, '\\n')\n",
    "print(\"Maximum size of an integer: \",sys.maxsize) "
   ]
  },
  {
   "cell_type": "code",
   "execution_count": 16,
   "metadata": {},
   "outputs": [
    {
     "name": "stdout",
     "output_type": "stream",
     "text": [
      "all variable have same values that is 5\n",
      "all variable do not have same value: 5, 5, 10\n"
     ]
    }
   ],
   "source": [
    "#124\n",
    "def multipleVar(var1, var2, var3):\n",
    "    if var1 == var2 and var2 == var3:\n",
    "        return f'all variable have same values that is {var1}'\n",
    "    return f'all variable do not have same value: {var1}, {var2}, {var3}'\n",
    "a = 5; b = 5; c = 5\n",
    "print(multipleVar(a, b, c))\n",
    "a = 5; b = 5; c = 10\n",
    "print(multipleVar(a, b, c))"
   ]
  },
  {
   "cell_type": "code",
   "execution_count": 17,
   "metadata": {},
   "outputs": [
    {
     "name": "stdout",
     "output_type": "stream",
     "text": [
      "9\n"
     ]
    }
   ],
   "source": [
    "#125\n",
    "import collections\n",
    "num = [2,2,4,6,6,8,6,10,4]\n",
    "print(sum(collections.Counter(num).values()))\n"
   ]
  },
  {
   "cell_type": "code",
   "execution_count": 1,
   "metadata": {},
   "outputs": [
    {
     "name": "stdout",
     "output_type": "stream",
     "text": [
      "<module 'math' (built-in)>\n"
     ]
    }
   ],
   "source": [
    "#126\n",
    "from inspect import getmodule\n",
    "from math import sqrt\n",
    "print(getmodule(sqrt))\n"
   ]
  },
  {
   "cell_type": "code",
   "execution_count": 2,
   "metadata": {},
   "outputs": [
    {
     "name": "stdout",
     "output_type": "stream",
     "text": [
      "64\n",
      "64\n"
     ]
    }
   ],
   "source": [
    "#127\n",
    "int_val = 30\n",
    "if int_val.bit_length() <= 63:\n",
    "    print((-2 ** 63).bit_length())\n",
    "    print((2 ** 63).bit_length())\n",
    "\t"
   ]
  },
  {
   "cell_type": "code",
   "execution_count": 5,
   "metadata": {},
   "outputs": [
    {
     "name": "stdout",
     "output_type": "stream",
     "text": [
      "there is a lower character in string: aBCDE\n",
      "there is not a lower character in string: THAEN\n"
     ]
    }
   ],
   "source": [
    "#128\n",
    "def checkLower(str):\n",
    "    for i in range(len(str)):\n",
    "        if str[i] == str[i].lower():\n",
    "            return f'there is a lower character in string: {str}'\n",
    "        return f'there is not a lower character in string: {str}'\n",
    "print(checkLower('aBCDE'))\n",
    "print(checkLower('THAEN'))"
   ]
  },
  {
   "cell_type": "code",
   "execution_count": 6,
   "metadata": {},
   "outputs": [
    {
     "name": "stdout",
     "output_type": "stream",
     "text": [
      "Original String:  122.22\n",
      "\n",
      "Added trailing zeros:\n",
      "122.2200\n",
      "122.220000\n",
      "\n",
      "Added leading zeros:\n",
      "00122.22\n",
      "0000122.22\n"
     ]
    }
   ],
   "source": [
    "#129\n",
    "str1='122.22'\n",
    "print(\"Original String: \",str1)\n",
    "print(\"\\nAdded trailing zeros:\")\n",
    "str1 = str1.ljust(8, '0')\n",
    "print(str1)\n",
    "str1 = str1.ljust(10, '0')\n",
    "print(str1)\n",
    "print(\"\\nAdded leading zeros:\")\n",
    "str1='122.22'\n",
    "str1 = str1.rjust(8, '0')\n",
    "print(str1)\n",
    "str1 = str1.rjust(10, '0')\n",
    "print(str1)\n"
   ]
  },
  {
   "cell_type": "code",
   "execution_count": 8,
   "metadata": {},
   "outputs": [
    {
     "name": "stdout",
     "output_type": "stream",
     "text": [
      "{\"Thaen\": 1, \"Fern\": 2, \"Aqua\": 3}\n"
     ]
    }
   ],
   "source": [
    "#130\n",
    "import json\n",
    "print(json.dumps({'Thaen': 1, 'Fern': 2, 'Aqua': 3}))\n"
   ]
  },
  {
   "cell_type": "code",
   "execution_count": 2,
   "metadata": {},
   "outputs": [
    {
     "name": "stdout",
     "output_type": "stream",
     "text": [
      "From [1, 2, 3]\n",
      "x = 1\n",
      "y = 2\n",
      "z = 3\n",
      "From ['a', 2, 'c']\n",
      "x = a\n",
      "y = 2\n",
      "z = c\n"
     ]
    }
   ],
   "source": [
    "#131\n",
    "def threeVar(list):\n",
    "    x = list[0]\n",
    "    y = list[1]\n",
    "    z = list[2]\n",
    "    return f'From {list}\\nx = {x}\\ny = {y}\\nz = {z}'\n",
    "print(threeVar([1,2,3]))\n",
    "print(threeVar(['a',2,'c']))"
   ]
  },
  {
   "cell_type": "code",
   "execution_count": null,
   "metadata": {},
   "outputs": [],
   "source": [
    "#132\n",
    "import os.path\n",
    "print(os.path.expanduser('~'))"
   ]
  },
  {
   "cell_type": "code",
   "execution_count": 23,
   "metadata": {},
   "outputs": [
    {
     "name": "stdout",
     "output_type": "stream",
     "text": [
      "Circle Area of radius 5 = 78.53981633974483\n",
      "Circle Area of radius 50 = 7853.981633974483\n",
      "Circle Area of radius 500 = 785398.1633974483\n",
      "Circle Area of radius 5000 = 78539816.33974482\n",
      "Circle Area of radius 50000 = 7853981633.974483\n",
      "Duration: 0:00:00.000514\n"
     ]
    }
   ],
   "source": [
    "#133\n",
    "from datetime import datetime\n",
    "start_time = datetime.now()\n",
    "\n",
    "#try to do some work (calculate circle area)\n",
    "import math\n",
    "def circleArea(r):\n",
    "    return f'Circle Area of radius {r} = {math.pi * (r**2)}'\n",
    "print(circleArea(5))\n",
    "print(circleArea(50))\n",
    "print(circleArea(500))\n",
    "print(circleArea(5000))\n",
    "print(circleArea(50000))\n",
    "#end of work\n",
    "\n",
    "end_time = datetime.now()\n",
    "print('Duration: {}'.format(end_time - start_time))"
   ]
  },
  {
   "cell_type": "code",
   "execution_count": 25,
   "metadata": {},
   "outputs": [
    {
     "name": "stdout",
     "output_type": "stream",
     "text": [
      "['1', '2']\n"
     ]
    }
   ],
   "source": [
    "#134\n",
    "twoNumber = input().split()\n",
    "print(twoNumber)"
   ]
  },
  {
   "cell_type": "code",
   "execution_count": 26,
   "metadata": {},
   "outputs": [
    {
     "name": "stdout",
     "output_type": "stream",
     "text": [
      "Value of x is \"30\"\n"
     ]
    }
   ],
   "source": [
    "#135\n",
    "x = 30\n",
    "print('Value of x is \"{}\"'.format(x))"
   ]
  },
  {
   "cell_type": "code",
   "execution_count": null,
   "metadata": {},
   "outputs": [],
   "source": []
  },
  {
   "cell_type": "code",
   "execution_count": null,
   "metadata": {},
   "outputs": [],
   "source": []
  },
  {
   "cell_type": "code",
   "execution_count": null,
   "metadata": {},
   "outputs": [],
   "source": []
  },
  {
   "cell_type": "code",
   "execution_count": null,
   "metadata": {},
   "outputs": [],
   "source": []
  },
  {
   "cell_type": "code",
   "execution_count": null,
   "metadata": {},
   "outputs": [],
   "source": []
  }
 ],
 "metadata": {
  "kernelspec": {
   "display_name": "base",
   "language": "python",
   "name": "python3"
  },
  "language_info": {
   "codemirror_mode": {
    "name": "ipython",
    "version": 3
   },
   "file_extension": ".py",
   "mimetype": "text/x-python",
   "name": "python",
   "nbconvert_exporter": "python",
   "pygments_lexer": "ipython3",
   "version": "3.9.13 (main, Aug 25 2022, 23:51:50) [MSC v.1916 64 bit (AMD64)]"
  },
  "orig_nbformat": 4,
  "vscode": {
   "interpreter": {
    "hash": "ece8c6a62f20c39405e979adf97398dab1259f40d042c1013ff95d808148550c"
   }
  }
 },
 "nbformat": 4,
 "nbformat_minor": 2
}
