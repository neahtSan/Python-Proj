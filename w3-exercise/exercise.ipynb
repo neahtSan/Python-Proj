{
 "cells": [
  {
   "cell_type": "code",
   "execution_count": 3,
   "metadata": {},
   "outputs": [
    {
     "data": {
      "text/plain": [
       "'\\nPython basic (Part -I) [150 exercises with solution]\\nsrc: https://www.w3resource.com/python-exercises/python-basic-exercises.php\\n'"
      ]
     },
     "execution_count": 3,
     "metadata": {},
     "output_type": "execute_result"
    }
   ],
   "source": [
    "'''\n",
    "Python basic (Part -I) [150 exercises with solution]\n",
    "src: https://www.w3resource.com/python-exercises/python-basic-exercises.php\n",
    "'''"
   ]
  },
  {
   "cell_type": "code",
   "execution_count": 4,
   "metadata": {},
   "outputs": [
    {
     "name": "stdout",
     "output_type": "stream",
     "text": [
      "Twinkle, twinkle, little star, \n",
      "\tHow I wonder what you are!\n",
      "\t\tUp above the world so high,\n",
      "\t\tLike a diamond in the sky.\n",
      "Twinkle, twinkle, little star, \n",
      "\tHow I wonder what you are\n"
     ]
    }
   ],
   "source": [
    "#1 \n",
    "sample = \"Twinkle, twinkle, little star, How I wonder what you are! Up above the world so high, Like a diamond in the sky. Twinkle, twinkle, little star, How I wonder what you are\"\n",
    "ans = ''\n",
    "for i in range(len(sample)):\n",
    "    if sample[i] == 'T':\n",
    "        for j in sample[i:]:\n",
    "            if j!= '!' and j != '.' and j != 'H':\n",
    "                ans += j\n",
    "            if j == 'H':\n",
    "                break\n",
    "    if sample[i] == 'H':\n",
    "        ans += '\\n\\t'\n",
    "        for j in sample[i:]:\n",
    "            if j != '!':\n",
    "                ans += j\n",
    "            else:\n",
    "                ans += j\n",
    "                break\n",
    "    if sample[i] == 'U':\n",
    "        ans += '\\n\\t\\t'\n",
    "        for j in sample[i:]:\n",
    "            if j != ',':\n",
    "                ans += j\n",
    "            else:\n",
    "                ans += ','\n",
    "                break\n",
    "    if sample[i] == 'L':\n",
    "        ans += '\\n\\t\\t'\n",
    "        for j in sample[i:]:\n",
    "            if j != '.':\n",
    "                ans += j\n",
    "            else:\n",
    "                ans += '.'\n",
    "                ans += '\\n'\n",
    "                break\n",
    "    \n",
    "    \n",
    "print(ans)"
   ]
  },
  {
   "cell_type": "code",
   "execution_count": 5,
   "metadata": {},
   "outputs": [
    {
     "name": "stdout",
     "output_type": "stream",
     "text": [
      "User Current Version:- 3.9.13 (main, Aug 25 2022, 23:51:50) [MSC v.1916 64 bit (AMD64)]\n"
     ]
    }
   ],
   "source": [
    "#2\n",
    "import sys\n",
    " \n",
    "print(\"User Current Version:-\", sys.version)"
   ]
  },
  {
   "cell_type": "code",
   "execution_count": 6,
   "metadata": {},
   "outputs": [
    {
     "name": "stdout",
     "output_type": "stream",
     "text": [
      "time 19:10:02 \n",
      "date 2022-12-01\n"
     ]
    }
   ],
   "source": [
    "#3\n",
    "from datetime import datetime, date\n",
    "\n",
    "now = datetime.now()\n",
    "\n",
    "current_time = now.strftime(\"%H:%M:%S\")\n",
    "\n",
    "print(f'time {current_time} \\ndate {date.today()}')"
   ]
  },
  {
   "cell_type": "code",
   "execution_count": 7,
   "metadata": {},
   "outputs": [
    {
     "name": "stdout",
     "output_type": "stream",
     "text": [
      "3.8013271108436504\n"
     ]
    }
   ],
   "source": [
    "#4\n",
    "import math\n",
    "\n",
    "def area(radius):\n",
    "    return math.pi * (radius ** 2)\n",
    "\n",
    "print(area(1.1))"
   ]
  },
  {
   "cell_type": "code",
   "execution_count": 9,
   "metadata": {},
   "outputs": [
    {
     "name": "stdout",
     "output_type": "stream",
     "text": [
      "O iahtneahT\n"
     ]
    }
   ],
   "source": [
    "#5\n",
    "firstName = 'Thaenthai'\n",
    "lastName = 'O'\n",
    "print(f'{lastName[::-1]} {firstName[::-1]}')"
   ]
  },
  {
   "cell_type": "code",
   "execution_count": 11,
   "metadata": {},
   "outputs": [
    {
     "name": "stdout",
     "output_type": "stream",
     "text": [
      "['3', ' 5', ' 7', ' 23']\n",
      "('3', ' 5', ' 7', ' 23')\n"
     ]
    }
   ],
   "source": [
    "#6\n",
    "sample = '3, 5, 7, 23'\n",
    "ans = sample.split(',')\n",
    "print(ans)\n",
    "print(tuple(ans))"
   ]
  },
  {
   "cell_type": "code",
   "execution_count": 12,
   "metadata": {},
   "outputs": [
    {
     "name": "stdout",
     "output_type": "stream",
     "text": [
      "java\n"
     ]
    }
   ],
   "source": [
    "#7\n",
    "fileName = 'abc.java'\n",
    "ans = fileName.split('.')\n",
    "print(ans[-1])\n",
    "\n"
   ]
  },
  {
   "cell_type": "code",
   "execution_count": 13,
   "metadata": {},
   "outputs": [
    {
     "name": "stdout",
     "output_type": "stream",
     "text": [
      "Red Black\n"
     ]
    }
   ],
   "source": [
    "#8\n",
    "color_list = [\"Red\",\"Green\",\"White\" ,\"Black\"]\n",
    "print(color_list[0], color_list[-1])"
   ]
  },
  {
   "cell_type": "code",
   "execution_count": 14,
   "metadata": {},
   "outputs": [
    {
     "name": "stdout",
     "output_type": "stream",
     "text": [
      "The examination will start from : 11 / 12 / 2014\n"
     ]
    }
   ],
   "source": [
    "#9\n",
    "exam_st_date = (11, 12, 2014)\n",
    "print(f'The examination will start from : {exam_st_date[0]} / {exam_st_date[1]} / {exam_st_date[2]}')"
   ]
  },
  {
   "cell_type": "code",
   "execution_count": 16,
   "metadata": {},
   "outputs": [
    {
     "name": "stdout",
     "output_type": "stream",
     "text": [
      "615\n"
     ]
    }
   ],
   "source": [
    "#10\n",
    "n = 5\n",
    "ans = []\n",
    "for i in range(3):\n",
    "    ans.append(str(n)*(i+1))\n",
    "    ans[i] = int(ans[i])\n",
    "print(sum(ans))"
   ]
  },
  {
   "cell_type": "code",
   "execution_count": 17,
   "metadata": {},
   "outputs": [
    {
     "name": "stdout",
     "output_type": "stream",
     "text": [
      "Return the absolute value of the argument.\n"
     ]
    }
   ],
   "source": [
    "#11\n",
    "print(abs.__doc__)"
   ]
  },
  {
   "cell_type": "code",
   "execution_count": 18,
   "metadata": {},
   "outputs": [
    {
     "name": "stdout",
     "output_type": "stream",
     "text": [
      "   December 2022\n",
      "Mo Tu We Th Fr Sa Su\n",
      "          1  2  3  4\n",
      " 5  6  7  8  9 10 11\n",
      "12 13 14 15 16 17 18\n",
      "19 20 21 22 23 24 25\n",
      "26 27 28 29 30 31\n",
      "\n"
     ]
    }
   ],
   "source": [
    "#12\n",
    "import calendar\n",
    "month = 12\n",
    "year = 2022\n",
    "print(calendar.month(year, month))"
   ]
  },
  {
   "cell_type": "code",
   "execution_count": 19,
   "metadata": {},
   "outputs": [
    {
     "name": "stdout",
     "output_type": "stream",
     "text": [
      "\n",
      "a string that you \"don't\" have to escape\n",
      "This\n",
      "is a  ....... multi-line\n",
      "heredoc string --------> example\n",
      "\n"
     ]
    }
   ],
   "source": [
    "#13\n",
    "print(\"\"\"\n",
    "a string that you \"don't\" have to escape\n",
    "This\n",
    "is a  ....... multi-line\n",
    "heredoc string --------> example\n",
    "\"\"\")"
   ]
  },
  {
   "cell_type": "code",
   "execution_count": 21,
   "metadata": {},
   "outputs": [
    {
     "name": "stdout",
     "output_type": "stream",
     "text": [
      "9 day\n"
     ]
    }
   ],
   "source": [
    "#14\n",
    "sample = [(2014, 7, 2), (2014, 7, 11)]\n",
    "print(f'{sample[1][-1] - sample[0][-1]} day')"
   ]
  },
  {
   "cell_type": "code",
   "execution_count": 22,
   "metadata": {},
   "outputs": [
    {
     "name": "stdout",
     "output_type": "stream",
     "text": [
      "904.7786842338603\n"
     ]
    }
   ],
   "source": [
    "#15\n",
    "import math\n",
    "def volume_sphere(radius = 6):\n",
    "    return (4/3) * math.pi * (radius ** 3)\n",
    "print(volume_sphere())"
   ]
  },
  {
   "cell_type": "code",
   "execution_count": 24,
   "metadata": {},
   "outputs": [
    {
     "name": "stdout",
     "output_type": "stream",
     "text": [
      "2 is less than 17\n",
      "double absolute difference between num and 17 is 6\n"
     ]
    }
   ],
   "source": [
    "#16\n",
    "def compare(num):\n",
    "   if num < 17:\n",
    "       return f'{num} is less than 17'\n",
    "   else:\n",
    "       return f'double absolute difference between num and 17 is {abs(num-17)*2}'\n",
    "print(compare(2))\n",
    "print(compare(20))"
   ]
  },
  {
   "cell_type": "code",
   "execution_count": 27,
   "metadata": {},
   "outputs": [
    {
     "name": "stdout",
     "output_type": "stream",
     "text": [
      "True\n",
      "True\n",
      "False\n",
      "False\n"
     ]
    }
   ],
   "source": [
    "#17\n",
    "def near_thousand(num):\n",
    "      return ((abs(1000 - num) <= 100) or (abs(2000 - num) <= 100))\n",
    "print(near_thousand(1000))\n",
    "print(near_thousand(900))\n",
    "print(near_thousand(700))   \n",
    "print(near_thousand(2300))"
   ]
  },
  {
   "cell_type": "code",
   "execution_count": 28,
   "metadata": {},
   "outputs": [
    {
     "name": "stdout",
     "output_type": "stream",
     "text": [
      "6\n",
      "12\n",
      "27\n"
     ]
    }
   ],
   "source": [
    "#18\n",
    "def sum(num1, num2, num3):\n",
    "    if num1 == num2 == num3:\n",
    "        return num1 ** 3\n",
    "    else:\n",
    "        return num1 + num2 + num3\n",
    "print(sum(1,2,3))\n",
    "print(sum(3,4,5))\n",
    "print(sum(3,3,3))"
   ]
  },
  {
   "cell_type": "code",
   "execution_count": 30,
   "metadata": {},
   "outputs": [
    {
     "name": "stdout",
     "output_type": "stream",
     "text": [
      "lsIsHere\n",
      "lsnols\n"
     ]
    }
   ],
   "source": [
    "#19\n",
    "def addString(string):\n",
    "    if string[0:2] == 'ls':\n",
    "        return string\n",
    "    else:\n",
    "        return f'ls{string}'\n",
    "print(addString('lsIsHere'))\n",
    "print(addString('nols'))    \n"
   ]
  },
  {
   "cell_type": "code",
   "execution_count": 32,
   "metadata": {},
   "outputs": [
    {
     "name": "stdout",
     "output_type": "stream",
     "text": [
      ".exe.exe.exe\n",
      "-3 is not non-negative number\n",
      "\n"
     ]
    }
   ],
   "source": [
    "#20\n",
    "def copy(string, num):\n",
    "    if num >= 0:\n",
    "        return string * num\n",
    "    else:\n",
    "        return f'{num} is not non-negative number'\n",
    "print(copy('.exe', 3))\n",
    "print(copy('.exe', -3))\n",
    "print(copy('.exe', 0))  \n"
   ]
  },
  {
   "cell_type": "code",
   "execution_count": 1,
   "metadata": {},
   "outputs": [
    {
     "name": "stdout",
     "output_type": "stream",
     "text": [
      "1 is odd number\n",
      "0 is even number\n",
      "3 is odd number\n",
      "500 is even number\n"
     ]
    }
   ],
   "source": [
    "#21\n",
    "def check_even_odd(num):\n",
    "    if num % 2 == 0 or num == 0:\n",
    "        return f'{num} is even number'\n",
    "    if num % 3 == 0 or num == 1:\n",
    "        return f'{num} is odd number'\n",
    "print(check_even_odd(1))\n",
    "print(check_even_odd(0))\n",
    "print(check_even_odd(3))\n",
    "print(check_even_odd(500))"
   ]
  },
  {
   "cell_type": "code",
   "execution_count": 1,
   "metadata": {},
   "outputs": [
    {
     "name": "stdout",
     "output_type": "stream",
     "text": [
      "number 4 in list is 2\n",
      "number 4 in list is 5\n",
      "number 4 in list is 0\n"
     ]
    }
   ],
   "source": [
    "#22\n",
    "def find_4(list):\n",
    "    count = 0\n",
    "    for i in list:\n",
    "        if i == 4:\n",
    "            count += 1\n",
    "    return f'number 4 in list is {count}'\n",
    "print(find_4([1,1,4,4]))\n",
    "print(find_4([1,1,4,4,4,4,4]))\n",
    "print(find_4([1,1]))"
   ]
  },
  {
   "cell_type": "code",
   "execution_count": 4,
   "metadata": {},
   "outputs": [
    {
     "name": "stdout",
     "output_type": "stream",
     "text": [
      "abc 3\n",
      "a 4\n",
      "thaen 0\n",
      "thaen -1\n"
     ]
    }
   ],
   "source": [
    "#23\n",
    "def copy_text(string, num):\n",
    "    if num <= 0:\n",
    "        return f'{num} is not not-negative integer'\n",
    "    if len(string) < 2:\n",
    "        return string * num\n",
    "    else:\n",
    "        return string[:2] * num\n",
    "print('abc',3)\n",
    "print('a',4)\n",
    "print('thaen',0)\n",
    "print('thaen',-1)\n"
   ]
  },
  {
   "cell_type": "code",
   "execution_count": 8,
   "metadata": {},
   "outputs": [
    {
     "name": "stdout",
     "output_type": "stream",
     "text": [
      "a is vowel\n",
      "e is vowel\n",
      "0 is not vowel\n",
      " is not vowel\n"
     ]
    }
   ],
   "source": [
    "#24\n",
    "def check_vowel(string):\n",
    "    vowel = 'aeiou'\n",
    "    if string in vowel and string != '':\n",
    "        return f'{string} is vowel'\n",
    "    else:\n",
    "        return f'{string} is not vowel'\n",
    "print(check_vowel('a'))\n",
    "print(check_vowel('e'))\n",
    "print(check_vowel('0'))\n",
    "print(check_vowel(''))"
   ]
  },
  {
   "cell_type": "code",
   "execution_count": 9,
   "metadata": {},
   "outputs": [
    {
     "name": "stdout",
     "output_type": "stream",
     "text": [
      "3 is in [1, 5, 8, 3]\n",
      "-1 is not in [1, 5, 8, 3]\n"
     ]
    }
   ],
   "source": [
    "#25\n",
    "def check_value(num, list):\n",
    "    for i in list:\n",
    "        if i == num:\n",
    "            return f'{num} is in {list}'\n",
    "    return f'{num} is not in {list}'\n",
    "print(check_value(3, [1, 5, 8, 3]))\n",
    "print(check_value(-1, [1, 5, 8, 3]))\n",
    "\n"
   ]
  },
  {
   "cell_type": "code",
   "execution_count": 12,
   "metadata": {},
   "outputs": [
    {
     "name": "stdout",
     "output_type": "stream",
     "text": [
      "**\n",
      "*\n",
      "***\n",
      "****\n"
     ]
    }
   ],
   "source": [
    "#26\n",
    "def histogram(list):\n",
    "    for i in range(len(list)):\n",
    "        print('*'*list[i])\n",
    "histogram([2,1,3,4])"
   ]
  },
  {
   "cell_type": "code",
   "execution_count": 17,
   "metadata": {},
   "outputs": [
    {
     "name": "stdout",
     "output_type": "stream",
     "text": [
      "1234\n",
      "abcdef\n",
      "10001200\n",
      "-1-421\n"
     ]
    }
   ],
   "source": [
    "#27\n",
    "def concat(list):\n",
    "    for i in range(len(list)):\n",
    "        list[i] = str(list[i])\n",
    "    return ('').join(list)\n",
    "print(concat([1,2,3,4]))\n",
    "print(concat(['ab','cd','ef']))\n",
    "print(concat([100,0,1,200]))\n",
    "print(concat([-1,-4,2,1]))\n"
   ]
  },
  {
   "cell_type": "code",
   "execution_count": 18,
   "metadata": {},
   "outputs": [
    {
     "name": "stdout",
     "output_type": "stream",
     "text": [
      "[386, 462, 418, 344, 236, 566, 978, 328, 162, 758, 918]\n"
     ]
    }
   ],
   "source": [
    "#28\n",
    "def even_before237(list):\n",
    "    ans = []\n",
    "    for i in range(len(list)):\n",
    "        if list[i] == 237:\n",
    "            return ans\n",
    "        if list[i] % 2 == 0:\n",
    "          ans.append(list[i])\n",
    "numbers = [    \n",
    "    386, 462, 47, 418, 907, 344, 236, 375, 823, 566, 597, 978, 328, 615, 953, 345, \n",
    "    399, 162, 758, 219, 918, 237, 412, 566, 826, 248, 866, 950, 626, 949, 687, 217, \n",
    "    815, 67, 104, 58, 512, 24, 892, 894, 767, 553, 81, 379, 843, 831, 445, 742, 717, \n",
    "    958,743, 527\n",
    "    ]\n",
    "print(even_before237(numbers))          "
   ]
  },
  {
   "cell_type": "code",
   "execution_count": 28,
   "metadata": {},
   "outputs": [
    {
     "name": "stdout",
     "output_type": "stream",
     "text": [
      "['White', 'Black']\n"
     ]
    }
   ],
   "source": [
    "#29\n",
    "def check_color(list1, list2):\n",
    "    ans = []\n",
    "    for i in list1:\n",
    "        if i not in list2:\n",
    "            ans.append(i)\n",
    "    return ans\n",
    "color_list_1 = set([\"White\", \"Black\", \"Red\"])\n",
    "color_list_2 = set([\"Red\", \"Green\"])\n",
    "print(check_color(color_list_1, color_list_2))"
   ]
  },
  {
   "cell_type": "code",
   "execution_count": 29,
   "metadata": {},
   "outputs": [
    {
     "name": "stdout",
     "output_type": "stream",
     "text": [
      "triangle area = 1.5\n",
      "triangle area = 15.0\n",
      "triangle area = 10.0\n"
     ]
    }
   ],
   "source": [
    "#30\n",
    "def triangle(base, height):\n",
    "    return f'triangle area = {(1/2) * base * height}'\n",
    "print(triangle(1,3))\n",
    "print(triangle(3,10))\n",
    "print(triangle(4,5))\n"
   ]
  },
  {
   "cell_type": "code",
   "execution_count": 15,
   "metadata": {},
   "outputs": [
    {
     "name": "stdout",
     "output_type": "stream",
     "text": [
      "gcd of (1, 4) is 1\n",
      "gcd of (4, 1) is 1\n",
      "gcd of (20, 10) is 10\n",
      "gcd of (7, 21) is 7\n",
      "gcd of (300, 303) is 3\n",
      "gcd of (300, 330) is 30\n",
      "gcd of (200, 204) is 4\n",
      "gcd of (40, 60) is 20\n"
     ]
    }
   ],
   "source": [
    "#31\n",
    "def find_gcd(num1,num2):\n",
    "    listNum = sorted([num1, num2])\n",
    "    if listNum[1] % listNum[0] == 0:\n",
    "        return f'gcd of {num1, num2} is {listNum[0]}'\n",
    "    for i in range(listNum[1], 1, -1):\n",
    "        if num1 % i == 0 and num2 % i ==0:\n",
    "            return f'gcd of {num1, num2} is {i}'\n",
    "print(find_gcd(1,4))\n",
    "print(find_gcd(4,1))\n",
    "print(find_gcd(20,10))\n",
    "print(find_gcd(7,21))\n",
    "print(find_gcd(300,303))\n",
    "print(find_gcd(300,330))\n",
    "print(find_gcd(200,204))\n",
    "print(find_gcd(40,60))\n"
   ]
  },
  {
   "cell_type": "code",
   "execution_count": 18,
   "metadata": {},
   "outputs": [
    {
     "name": "stdout",
     "output_type": "stream",
     "text": [
      "lcm of (1, 4) is 1\n",
      "lcm of (4, 1) is 1\n",
      "lcm of (20, 10) is 2\n",
      "lcm of (7, 21) is 7\n",
      "lcm of (300, 303) is 3\n",
      "lcm of (300, 330) is 2\n",
      "lcm of (200, 204) is 2\n",
      "lcm of (40, 60) is 2\n"
     ]
    }
   ],
   "source": [
    "#32\n",
    "def find_lcm(num1,num2):\n",
    "    listNum = sorted([num1, num2])\n",
    "    for i in range(2, listNum[1], 1):\n",
    "        if num1 % i == 0 and num2 % i ==0:\n",
    "            return f'lcm of {num1, num2} is {i}'\n",
    "    if listNum[0] == 1:\n",
    "        return f'lcm of {num1, num2} is {1}'\n",
    "print(find_lcm(1,4))\n",
    "print(find_lcm(4,1))\n",
    "print(find_lcm(20,10))\n",
    "print(find_lcm(7,21))\n",
    "print(find_lcm(300,303))\n",
    "print(find_lcm(300,330))\n",
    "print(find_lcm(200,204))\n",
    "print(find_lcm(40,60))"
   ]
  },
  {
   "cell_type": "code",
   "execution_count": 19,
   "metadata": {},
   "outputs": [
    {
     "name": "stdout",
     "output_type": "stream",
     "text": [
      "sum of [3, 4, 5] equal to 12\n",
      "sum equal to 0 because 2 value are equal: [100, 100, 200]\n",
      "sum equal to 0 because 2 value are equal: [300, 300, 400]\n",
      "sum of [301, 302, 303] equal to 906\n"
     ]
    }
   ],
   "source": [
    "#33\n",
    "def three_sum(num1, num2, num3):\n",
    "    listNum = sorted([num1, num2, num3])\n",
    "    if listNum[0] == listNum[1] or listNum[1] == listNum[2]:\n",
    "        return f'sum equal to 0 because 2 value are equal: {listNum}'\n",
    "    return f'sum of {listNum} equal to {sum(listNum)}'\n",
    "print(three_sum(3,4,5))\n",
    "print(three_sum(100,200,100))\n",
    "print(three_sum(300,300,400))\n",
    "print(three_sum(301,302,303))"
   ]
  },
  {
   "cell_type": "code",
   "execution_count": 21,
   "metadata": {},
   "outputs": [
    {
     "name": "stdout",
     "output_type": "stream",
     "text": [
      "sum of (1, 2) = 3\n",
      "sum of (7, 8) is between 15-20 so it be 20\n",
      "sum of (19, 20) = 39\n"
     ]
    }
   ],
   "source": [
    "#34\n",
    "def sum_two(num1, num2):\n",
    "    ans = num1+num2\n",
    "    if ans >= 15 and ans <= 20:\n",
    "        return f'sum of {num1,num2} is between 15-20 so it be 20'\n",
    "    return f'sum of {num1,num2} = {ans}'\n",
    "print(sum_two(1,2))\n",
    "print(sum_two(7,8))\n",
    "print(sum_two(19,20))"
   ]
  },
  {
   "cell_type": "code",
   "execution_count": 23,
   "metadata": {},
   "outputs": [
    {
     "name": "stdout",
     "output_type": "stream",
     "text": [
      "True\n",
      "True\n",
      "True\n",
      "False\n",
      "False\n"
     ]
    }
   ],
   "source": [
    "#35\n",
    "def check_true(num1,num2):\n",
    "    if num1 == num2 or num1 + num2 == 5 or num1-num2 == 5:\n",
    "        return True\n",
    "    return False\n",
    "print(check_true(7,2))\n",
    "print(check_true(3,2))\n",
    "print(check_true(2,2))\n",
    "print(check_true(7,3))\n",
    "print(check_true(27,53))"
   ]
  },
  {
   "cell_type": "code",
   "execution_count": 24,
   "metadata": {},
   "outputs": [
    {
     "name": "stdout",
     "output_type": "stream",
     "text": [
      "30\n",
      "input must be integer\n",
      "input must be integer\n",
      "input must be integer\n"
     ]
    }
   ],
   "source": [
    "#36\n",
    "def add_obj(obj1, obj2):\n",
    "    if type(obj1) == int and type(obj2) == int:\n",
    "        return obj1 + obj2\n",
    "    else:\n",
    "        return f'input must be integer'\n",
    "print(add_obj(10, 20))\n",
    "print(add_obj(10, 20.23))\n",
    "print(add_obj('5', 6))\n",
    "print(add_obj('5', '6'))"
   ]
  },
  {
   "cell_type": "code",
   "execution_count": 26,
   "metadata": {},
   "outputs": [
    {
     "name": "stdout",
     "output_type": "stream",
     "text": [
      "name: tanisa124 \n",
      "age: NaN \n",
      "address: Mooncave\n"
     ]
    }
   ],
   "source": [
    "#37\n",
    "def my_info():\n",
    "    return f'name: tanisa124 \\nage: NaN \\naddress: Mooncave'\n",
    "print(my_info())"
   ]
  },
  {
   "cell_type": "code",
   "execution_count": 32,
   "metadata": {},
   "outputs": [
    {
     "name": "stdout",
     "output_type": "stream",
     "text": [
      "(3+4)^2 = 49\n",
      "(3+5)^2 = 64\n",
      "(3+10)^2 = 169\n",
      "(3+20)^2 = 529\n"
     ]
    }
   ],
   "source": [
    "#38\n",
    "def square(x, y):\n",
    "    return f'({x}+{y})^2 = {(x+y)**2}'\n",
    "print(square(3,4))\n",
    "print(square(3,5))\n",
    "print(square(3,10))\n",
    "print(square(3,20))"
   ]
  },
  {
   "cell_type": "code",
   "execution_count": 33,
   "metadata": {},
   "outputs": [
    {
     "name": "stdout",
     "output_type": "stream",
     "text": [
      "12722.792627665736\n"
     ]
    }
   ],
   "source": [
    "#39\n",
    "def investment(amount, roi, year):\n",
    "    for i in range(year):\n",
    "        amount = (amount * roi/100) + amount\n",
    "    return amount\n",
    "print(investment(10000, 3.5, 7))"
   ]
  },
  {
   "cell_type": "code",
   "execution_count": 34,
   "metadata": {},
   "outputs": [
    {
     "name": "stdout",
     "output_type": "stream",
     "text": [
      "6.324555320336759\n"
     ]
    }
   ],
   "source": [
    "#40\n",
    "import math\n",
    "def coordinate(coor1, coor2):\n",
    "    return math.sqrt((coor1[0]-coor2[0])**2+(coor1[1]-coor2[1])**2)\n",
    "print(coordinate([4,0],[6,6]))"
   ]
  },
  {
   "cell_type": "code",
   "execution_count": 4,
   "metadata": {},
   "outputs": [
    {
     "name": "stdout",
     "output_type": "stream",
     "text": [
      "False\n",
      "False\n",
      "file name is not string\n"
     ]
    }
   ],
   "source": [
    "#41\n",
    "import os.path\n",
    "def check_file(fileName):\n",
    "    if type(fileName) == str:\n",
    "        return os.path.isfile(fileName)\n",
    "    return f'file name is not string'\n",
    "print(check_file('main.txt'))\n",
    "print(check_file('main.py'))\n",
    "print(check_file(123))"
   ]
  },
  {
   "cell_type": "code",
   "execution_count": 10,
   "metadata": {},
   "outputs": [
    {
     "name": "stdout",
     "output_type": "stream",
     "text": [
      "64bit\n"
     ]
    }
   ],
   "source": [
    "#42\n",
    "import platform\n",
    "print(platform.architecture()[0])"
   ]
  },
  {
   "cell_type": "code",
   "execution_count": 11,
   "metadata": {},
   "outputs": [
    {
     "name": "stdout",
     "output_type": "stream",
     "text": [
      "Name of the operating system: nt\n",
      "\n",
      "Name of the OS system: Windows\n",
      "\n",
      "Version of the operating system: 10\n"
     ]
    }
   ],
   "source": [
    "#43\n",
    "import platform\n",
    "import os\n",
    "print(\"Name of the operating system:\",os.name)\n",
    "print(\"\\nName of the OS system:\",platform.system())\n",
    "print(\"\\nVersion of the operating system:\",platform.release())"
   ]
  },
  {
   "cell_type": "code",
   "execution_count": 17,
   "metadata": {},
   "outputs": [
    {
     "name": "stdout",
     "output_type": "stream",
     "text": [
      "['c:\\\\Users\\\\NeahtX\\\\AppData\\\\Local\\\\Programs\\\\Python\\\\Python39', 'c:\\\\Users\\\\NeahtX\\\\AppData\\\\Local\\\\Programs\\\\Python\\\\Python39\\\\lib\\\\site-packages']\n"
     ]
    }
   ],
   "source": [
    "#44\n",
    "import site; \n",
    "print(site.getsitepackages())"
   ]
  },
  {
   "cell_type": "code",
   "execution_count": 20,
   "metadata": {},
   "outputs": [
    {
     "name": "stdout",
     "output_type": "stream",
     "text": [
      "1\n"
     ]
    }
   ],
   "source": [
    "#45\n",
    "import os\n",
    "print(os.system('ls -l'))"
   ]
  },
  {
   "cell_type": "code",
   "execution_count": null,
   "metadata": {},
   "outputs": [],
   "source": [
    "#46\n",
    "import os\n",
    "print(\"Current File Name : \",os.path.realpath(__file__))"
   ]
  },
  {
   "cell_type": "code",
   "execution_count": 29,
   "metadata": {},
   "outputs": [
    {
     "name": "stdout",
     "output_type": "stream",
     "text": [
      "12\n"
     ]
    }
   ],
   "source": [
    "#47\n",
    "import multiprocessing\n",
    "print(multiprocessing.cpu_count())"
   ]
  },
  {
   "cell_type": "code",
   "execution_count": 30,
   "metadata": {},
   "outputs": [
    {
     "name": "stdout",
     "output_type": "stream",
     "text": [
      "123\n",
      "123.12\n",
      "0.0\n"
     ]
    }
   ],
   "source": [
    "#48\n",
    "def toFloatorInt(string):\n",
    "    if '.' in string:\n",
    "        return float(string)\n",
    "    return int(string)\n",
    "print(toFloatorInt('123'))\n",
    "print(toFloatorInt('123.12'))\n",
    "print(toFloatorInt('00.00'))"
   ]
  },
  {
   "cell_type": "code",
   "execution_count": 35,
   "metadata": {},
   "outputs": [
    {
     "name": "stdout",
     "output_type": "stream",
     "text": [
      "['exercise.ipynb', 'python-basic1.py', 'python-basic2.py', 'test.py']\n"
     ]
    }
   ],
   "source": [
    "#49\n",
    "from os import listdir\n",
    "from os.path import isfile, join\n",
    "files_list = [f for f in listdir('../w3-exercise/') if isfile(join('../w3-exercise/', f))]\n",
    "print(files_list)\n"
   ]
  },
  {
   "cell_type": "code",
   "execution_count": 40,
   "metadata": {},
   "outputs": [
    {
     "name": "stdout",
     "output_type": "stream",
     "text": [
      "abcabc\n",
      "123123\n",
      "abc123abc\n"
     ]
    }
   ],
   "source": [
    "#50\n",
    "def noNewlineOrSpace(string):\n",
    "    arg = [\" \", \"\\n\"]\n",
    "    for i in arg:\n",
    "        if i in string:\n",
    "            list = string.split(i)\n",
    "            string = ('').join(list)\n",
    "    return string\n",
    "print(noNewlineOrSpace('abc abc'))\n",
    "print(noNewlineOrSpace('123\\n123'))\n",
    "print(noNewlineOrSpace('abc \\n123 \\nabc'))"
   ]
  },
  {
   "cell_type": "code",
   "execution_count": 2,
   "metadata": {},
   "outputs": [
    {
     "name": "stdout",
     "output_type": "stream",
     "text": [
      "30\n",
      "         29 function calls in 0.000 seconds\n",
      "\n",
      "   Ordered by: standard name\n",
      "\n",
      "   ncalls  tottime  percall  cumtime  percall filename:lineno(function)\n",
      "        1    0.000    0.000    0.000    0.000 3700486100.py:2(test_sum)\n",
      "        1    0.000    0.000    0.000    0.000 <string>:1(<module>)\n",
      "        1    0.000    0.000    0.000    0.000 iostream.py:202(schedule)\n",
      "        2    0.000    0.000    0.000    0.000 iostream.py:437(_is_master_process)\n",
      "        2    0.000    0.000    0.000    0.000 iostream.py:456(_schedule_flush)\n",
      "        2    0.000    0.000    0.000    0.000 iostream.py:526(write)\n",
      "        1    0.000    0.000    0.000    0.000 iostream.py:90(_event_pipe)\n",
      "        1    0.000    0.000    0.000    0.000 socket.py:545(send)\n",
      "        1    0.000    0.000    0.000    0.000 threading.py:1059(_wait_for_tstate_lock)\n",
      "        1    0.000    0.000    0.000    0.000 threading.py:1113(is_alive)\n",
      "        1    0.000    0.000    0.000    0.000 threading.py:529(is_set)\n",
      "        1    0.000    0.000    0.000    0.000 {built-in method builtins.exec}\n",
      "        2    0.000    0.000    0.000    0.000 {built-in method builtins.isinstance}\n",
      "        2    0.000    0.000    0.000    0.000 {built-in method builtins.len}\n",
      "        1    0.000    0.000    0.000    0.000 {built-in method builtins.print}\n",
      "        2    0.000    0.000    0.000    0.000 {built-in method nt.getpid}\n",
      "        2    0.000    0.000    0.000    0.000 {method '__exit__' of '_thread.RLock' objects}\n",
      "        1    0.000    0.000    0.000    0.000 {method 'acquire' of '_thread.lock' objects}\n",
      "        1    0.000    0.000    0.000    0.000 {method 'append' of 'collections.deque' objects}\n",
      "        1    0.000    0.000    0.000    0.000 {method 'disable' of '_lsprof.Profiler' objects}\n",
      "        2    0.000    0.000    0.000    0.000 {method 'write' of '_io.StringIO' objects}\n",
      "\n",
      "\n"
     ]
    }
   ],
   "source": [
    "#51\n",
    "import cProfile\n",
    "def test_sum(num1, num2):\n",
    "    return print(num1 + num2)\n",
    "cProfile.run('test_sum(10,20)')"
   ]
  },
  {
   "cell_type": "code",
   "execution_count": 4,
   "metadata": {},
   "outputs": [
    {
     "name": "stderr",
     "output_type": "stream",
     "text": [
      "abc--def--ghi\n"
     ]
    }
   ],
   "source": [
    "#52\n",
    "from __future__ import print_function\n",
    "import sys\n",
    "\n",
    "def eprint(*args, **kwargs):\n",
    "    print(*args, file=sys.stderr, **kwargs)\n",
    "\n",
    "eprint(\"abc\", \"def\", \"ghi\", sep=\"--\")"
   ]
  },
  {
   "cell_type": "code",
   "execution_count": null,
   "metadata": {},
   "outputs": [],
   "source": [
    "#53\n",
    "import os\n",
    "# Access all environment variables \n",
    "print('*----------------------------------*')\n",
    "print(os.environ)\n",
    "print('*----------------------------------*')\n"
   ]
  },
  {
   "cell_type": "code",
   "execution_count": null,
   "metadata": {},
   "outputs": [],
   "source": [
    "#54\n",
    "import getpass\n",
    "print(getpass.getuser())"
   ]
  },
  {
   "cell_type": "code",
   "execution_count": null,
   "metadata": {},
   "outputs": [],
   "source": [
    "#55\n",
    "import socket\n",
    "print([l for l in ([ip for ip in socket.gethostbyname_ex(socket.gethostname())[2] \n",
    "if not ip.startswith(\"127.\")][:1], [[(s.connect(('8.8.8.8', 53)), \n",
    "s.getsockname()[0], s.close()) for s in [socket.socket(socket.AF_INET, \n",
    "socket.SOCK_DGRAM)]][0][1]]) if l][0][0])"
   ]
  },
  {
   "cell_type": "code",
   "execution_count": null,
   "metadata": {},
   "outputs": [],
   "source": [
    "#56\n",
    "import os\n",
    "def size():\n",
    "    return os.get_terminal_size()\n",
    "print(size())\n"
   ]
  },
  {
   "cell_type": "code",
   "execution_count": 21,
   "metadata": {},
   "outputs": [
    {
     "name": "stdout",
     "output_type": "stream",
     "text": [
      "8\n",
      "81\n",
      "1024\n",
      "Duration: 0:00:00.001002\n"
     ]
    }
   ],
   "source": [
    "#57\n",
    "from datetime import datetime\n",
    "start_time = datetime.now()\n",
    "def test_power(num1, num2):\n",
    "    return num1 ** num2\n",
    "print(test_power(2,3))\n",
    "print(test_power(3,4))\n",
    "print(test_power(4,5))\n",
    "end_time = datetime.now()\n",
    "print('Duration: {}'.format(end_time - start_time))"
   ]
  },
  {
   "cell_type": "code",
   "execution_count": 24,
   "metadata": {},
   "outputs": [
    {
     "name": "stdout",
     "output_type": "stream",
     "text": [
      "arithmetic sum = 36\n",
      "arithmetic sum = 55\n",
      "arithmetic sum = 120\n"
     ]
    }
   ],
   "source": [
    "#58\n",
    "def arithmetic_sum(num):\n",
    "    return f'arithmetic sum = {int((num/2)*(2+(num-1)))}'\n",
    "print(arithmetic_sum(8))\n",
    "print(arithmetic_sum(10))\n",
    "print(arithmetic_sum(15))"
   ]
  },
  {
   "cell_type": "code",
   "execution_count": 26,
   "metadata": {},
   "outputs": [
    {
     "name": "stdout",
     "output_type": "stream",
     "text": [
      "height = 355.6 cm\n",
      "height = 177.8 cm\n",
      "height = 122.3772 cm\n"
     ]
    }
   ],
   "source": [
    "#59\n",
    "def conv_height_ft_inch(ft, inch):\n",
    "    return f'height = {(ft * 30.48) + (inch * 2.54)} cm'\n",
    "print(conv_height_ft_inch(10,20))\n",
    "print(conv_height_ft_inch(5,10))\n",
    "print(conv_height_ft_inch(3.45,6.78))"
   ]
  },
  {
   "cell_type": "code",
   "execution_count": 27,
   "metadata": {},
   "outputs": [
    {
     "name": "stdout",
     "output_type": "stream",
     "text": [
      "5.0\n",
      "14.142135623730951\n",
      "25.0\n"
     ]
    }
   ],
   "source": [
    "#60\n",
    "import math\n",
    "def hypotenuse(a ,b):\n",
    "    return math.sqrt((a**2) + (b**2))\n",
    "print(hypotenuse(3,4))\n",
    "print(hypotenuse(10,10))\n",
    "print(hypotenuse(15,20))"
   ]
  },
  {
   "cell_type": "code",
   "execution_count": null,
   "metadata": {},
   "outputs": [],
   "source": []
  },
  {
   "cell_type": "code",
   "execution_count": null,
   "metadata": {},
   "outputs": [],
   "source": []
  },
  {
   "cell_type": "code",
   "execution_count": null,
   "metadata": {},
   "outputs": [],
   "source": []
  },
  {
   "cell_type": "code",
   "execution_count": null,
   "metadata": {},
   "outputs": [],
   "source": []
  },
  {
   "cell_type": "code",
   "execution_count": null,
   "metadata": {},
   "outputs": [],
   "source": []
  },
  {
   "cell_type": "code",
   "execution_count": null,
   "metadata": {},
   "outputs": [],
   "source": []
  }
 ],
 "metadata": {
  "kernelspec": {
   "display_name": "Python 3.9.7 64-bit",
   "language": "python",
   "name": "python3"
  },
  "language_info": {
   "codemirror_mode": {
    "name": "ipython",
    "version": 3
   },
   "file_extension": ".py",
   "mimetype": "text/x-python",
   "name": "python",
   "nbconvert_exporter": "python",
   "pygments_lexer": "ipython3",
   "version": "3.9.7"
  },
  "orig_nbformat": 4,
  "vscode": {
   "interpreter": {
    "hash": "878921931c4e6ac114fd69965474e199e459dde852d18484fa04c83b63f31a40"
   }
  }
 },
 "nbformat": 4,
 "nbformat_minor": 2
}
