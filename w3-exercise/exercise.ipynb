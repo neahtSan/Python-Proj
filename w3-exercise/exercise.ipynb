{
 "cells": [
  {
   "cell_type": "code",
   "execution_count": 3,
   "metadata": {},
   "outputs": [
    {
     "data": {
      "text/plain": [
       "'\\nPython basic (Part -I) [150 exercises with solution]\\nsrc: https://www.w3resource.com/python-exercises/python-basic-exercises.php\\n'"
      ]
     },
     "execution_count": 3,
     "metadata": {},
     "output_type": "execute_result"
    }
   ],
   "source": [
    "'''\n",
    "Python basic (Part -I) [150 exercises with solution]\n",
    "src: https://www.w3resource.com/python-exercises/python-basic-exercises.php\n",
    "'''"
   ]
  },
  {
   "cell_type": "code",
   "execution_count": 4,
   "metadata": {},
   "outputs": [
    {
     "name": "stdout",
     "output_type": "stream",
     "text": [
      "Twinkle, twinkle, little star, \n",
      "\tHow I wonder what you are!\n",
      "\t\tUp above the world so high,\n",
      "\t\tLike a diamond in the sky.\n",
      "Twinkle, twinkle, little star, \n",
      "\tHow I wonder what you are\n"
     ]
    }
   ],
   "source": [
    "#1 \n",
    "sample = \"Twinkle, twinkle, little star, How I wonder what you are! Up above the world so high, Like a diamond in the sky. Twinkle, twinkle, little star, How I wonder what you are\"\n",
    "ans = ''\n",
    "for i in range(len(sample)):\n",
    "    if sample[i] == 'T':\n",
    "        for j in sample[i:]:\n",
    "            if j!= '!' and j != '.' and j != 'H':\n",
    "                ans += j\n",
    "            if j == 'H':\n",
    "                break\n",
    "    if sample[i] == 'H':\n",
    "        ans += '\\n\\t'\n",
    "        for j in sample[i:]:\n",
    "            if j != '!':\n",
    "                ans += j\n",
    "            else:\n",
    "                ans += j\n",
    "                break\n",
    "    if sample[i] == 'U':\n",
    "        ans += '\\n\\t\\t'\n",
    "        for j in sample[i:]:\n",
    "            if j != ',':\n",
    "                ans += j\n",
    "            else:\n",
    "                ans += ','\n",
    "                break\n",
    "    if sample[i] == 'L':\n",
    "        ans += '\\n\\t\\t'\n",
    "        for j in sample[i:]:\n",
    "            if j != '.':\n",
    "                ans += j\n",
    "            else:\n",
    "                ans += '.'\n",
    "                ans += '\\n'\n",
    "                break\n",
    "    \n",
    "    \n",
    "print(ans)"
   ]
  },
  {
   "cell_type": "code",
   "execution_count": 5,
   "metadata": {},
   "outputs": [
    {
     "name": "stdout",
     "output_type": "stream",
     "text": [
      "User Current Version:- 3.9.13 (main, Aug 25 2022, 23:51:50) [MSC v.1916 64 bit (AMD64)]\n"
     ]
    }
   ],
   "source": [
    "#2\n",
    "import sys\n",
    " \n",
    "print(\"User Current Version:-\", sys.version)"
   ]
  },
  {
   "cell_type": "code",
   "execution_count": 6,
   "metadata": {},
   "outputs": [
    {
     "name": "stdout",
     "output_type": "stream",
     "text": [
      "time 19:10:02 \n",
      "date 2022-12-01\n"
     ]
    }
   ],
   "source": [
    "#3\n",
    "from datetime import datetime, date\n",
    "\n",
    "now = datetime.now()\n",
    "\n",
    "current_time = now.strftime(\"%H:%M:%S\")\n",
    "\n",
    "print(f'time {current_time} \\ndate {date.today()}')"
   ]
  },
  {
   "cell_type": "code",
   "execution_count": 7,
   "metadata": {},
   "outputs": [
    {
     "name": "stdout",
     "output_type": "stream",
     "text": [
      "3.8013271108436504\n"
     ]
    }
   ],
   "source": [
    "#4\n",
    "import math\n",
    "\n",
    "def area(radius):\n",
    "    return math.pi * (radius ** 2)\n",
    "\n",
    "print(area(1.1))"
   ]
  },
  {
   "cell_type": "code",
   "execution_count": 9,
   "metadata": {},
   "outputs": [
    {
     "name": "stdout",
     "output_type": "stream",
     "text": [
      "O iahtneahT\n"
     ]
    }
   ],
   "source": [
    "#5\n",
    "firstName = 'Thaenthai'\n",
    "lastName = 'O'\n",
    "print(f'{lastName[::-1]} {firstName[::-1]}')"
   ]
  },
  {
   "cell_type": "code",
   "execution_count": 11,
   "metadata": {},
   "outputs": [
    {
     "name": "stdout",
     "output_type": "stream",
     "text": [
      "['3', ' 5', ' 7', ' 23']\n",
      "('3', ' 5', ' 7', ' 23')\n"
     ]
    }
   ],
   "source": [
    "#6\n",
    "sample = '3, 5, 7, 23'\n",
    "ans = sample.split(',')\n",
    "print(ans)\n",
    "print(tuple(ans))"
   ]
  },
  {
   "cell_type": "code",
   "execution_count": 12,
   "metadata": {},
   "outputs": [
    {
     "name": "stdout",
     "output_type": "stream",
     "text": [
      "java\n"
     ]
    }
   ],
   "source": [
    "#7\n",
    "fileName = 'abc.java'\n",
    "ans = fileName.split('.')\n",
    "print(ans[-1])\n",
    "\n"
   ]
  },
  {
   "cell_type": "code",
   "execution_count": 13,
   "metadata": {},
   "outputs": [
    {
     "name": "stdout",
     "output_type": "stream",
     "text": [
      "Red Black\n"
     ]
    }
   ],
   "source": [
    "#8\n",
    "color_list = [\"Red\",\"Green\",\"White\" ,\"Black\"]\n",
    "print(color_list[0], color_list[-1])"
   ]
  },
  {
   "cell_type": "code",
   "execution_count": 14,
   "metadata": {},
   "outputs": [
    {
     "name": "stdout",
     "output_type": "stream",
     "text": [
      "The examination will start from : 11 / 12 / 2014\n"
     ]
    }
   ],
   "source": [
    "#9\n",
    "exam_st_date = (11, 12, 2014)\n",
    "print(f'The examination will start from : {exam_st_date[0]} / {exam_st_date[1]} / {exam_st_date[2]}')"
   ]
  },
  {
   "cell_type": "code",
   "execution_count": 16,
   "metadata": {},
   "outputs": [
    {
     "name": "stdout",
     "output_type": "stream",
     "text": [
      "615\n"
     ]
    }
   ],
   "source": [
    "#10\n",
    "n = 5\n",
    "ans = []\n",
    "for i in range(3):\n",
    "    ans.append(str(n)*(i+1))\n",
    "    ans[i] = int(ans[i])\n",
    "print(sum(ans))"
   ]
  },
  {
   "cell_type": "code",
   "execution_count": 17,
   "metadata": {},
   "outputs": [
    {
     "name": "stdout",
     "output_type": "stream",
     "text": [
      "Return the absolute value of the argument.\n"
     ]
    }
   ],
   "source": [
    "#11\n",
    "print(abs.__doc__)"
   ]
  },
  {
   "cell_type": "code",
   "execution_count": 18,
   "metadata": {},
   "outputs": [
    {
     "name": "stdout",
     "output_type": "stream",
     "text": [
      "   December 2022\n",
      "Mo Tu We Th Fr Sa Su\n",
      "          1  2  3  4\n",
      " 5  6  7  8  9 10 11\n",
      "12 13 14 15 16 17 18\n",
      "19 20 21 22 23 24 25\n",
      "26 27 28 29 30 31\n",
      "\n"
     ]
    }
   ],
   "source": [
    "#12\n",
    "import calendar\n",
    "month = 12\n",
    "year = 2022\n",
    "print(calendar.month(year, month))"
   ]
  },
  {
   "cell_type": "code",
   "execution_count": null,
   "metadata": {},
   "outputs": [],
   "source": []
  },
  {
   "cell_type": "code",
   "execution_count": null,
   "metadata": {},
   "outputs": [],
   "source": []
  },
  {
   "cell_type": "code",
   "execution_count": null,
   "metadata": {},
   "outputs": [],
   "source": []
  },
  {
   "cell_type": "code",
   "execution_count": null,
   "metadata": {},
   "outputs": [],
   "source": []
  },
  {
   "cell_type": "code",
   "execution_count": null,
   "metadata": {},
   "outputs": [],
   "source": []
  },
  {
   "cell_type": "code",
   "execution_count": null,
   "metadata": {},
   "outputs": [],
   "source": []
  },
  {
   "cell_type": "code",
   "execution_count": null,
   "metadata": {},
   "outputs": [],
   "source": []
  }
 ],
 "metadata": {
  "kernelspec": {
   "display_name": "Python 3.9.13 ('base')",
   "language": "python",
   "name": "python3"
  },
  "language_info": {
   "codemirror_mode": {
    "name": "ipython",
    "version": 3
   },
   "file_extension": ".py",
   "mimetype": "text/x-python",
   "name": "python",
   "nbconvert_exporter": "python",
   "pygments_lexer": "ipython3",
   "version": "3.9.13"
  },
  "orig_nbformat": 4,
  "vscode": {
   "interpreter": {
    "hash": "ece8c6a62f20c39405e979adf97398dab1259f40d042c1013ff95d808148550c"
   }
  }
 },
 "nbformat": 4,
 "nbformat_minor": 2
}
